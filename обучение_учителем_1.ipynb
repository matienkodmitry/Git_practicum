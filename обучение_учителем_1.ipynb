{
 "cells": [
  {
   "cell_type": "markdown",
   "metadata": {
    "toc": true
   },
   "source": [
    "<h1>Содержание<span class=\"tocSkip\"></span></h1>\n",
    "<div class=\"toc\"><ul class=\"toc-item\"><li><span><a href=\"#Подготовка-данных\" data-toc-modified-id=\"Подготовка-данных-1\"><span class=\"toc-item-num\">1&nbsp;&nbsp;</span>Подготовка данных</a></span></li><li><span><a href=\"#Исследование-задачи\" data-toc-modified-id=\"Исследование-задачи-2\"><span class=\"toc-item-num\">2&nbsp;&nbsp;</span>Исследование задачи</a></span></li><li><span><a href=\"#Борьба-с-дисбалансом\" data-toc-modified-id=\"Борьба-с-дисбалансом-3\"><span class=\"toc-item-num\">3&nbsp;&nbsp;</span>Борьба с дисбалансом</a></span></li><li><span><a href=\"#Тестирование-модели\" data-toc-modified-id=\"Тестирование-модели-4\"><span class=\"toc-item-num\">4&nbsp;&nbsp;</span>Тестирование модели</a></span></li><li><span><a href=\"#Чек-лист-готовности-проекта\" data-toc-modified-id=\"Чек-лист-готовности-проекта-5\"><span class=\"toc-item-num\">5&nbsp;&nbsp;</span>Чек-лист готовности проекта</a></span></li></ul></div>"
   ]
  },
  {
   "cell_type": "markdown",
   "metadata": {},
   "source": [
    "# Отток клиентов"
   ]
  },
  {
   "cell_type": "markdown",
   "metadata": {},
   "source": [
    "Из «Бета-Банка» стали уходить клиенты. Каждый месяц. Немного, но заметно. Банковские маркетологи посчитали: сохранять текущих клиентов дешевле, чем привлекать новых.\n",
    "\n",
    "Нужно спрогнозировать, уйдёт клиент из банка в ближайшее время или нет. Вам предоставлены исторические данные о поведении клиентов и расторжении договоров с банком. \n",
    "\n",
    "Постройте модель с предельно большим значением *F1*-меры. Чтобы сдать проект успешно, нужно довести метрику до 0.59. Проверьте *F1*-меру на тестовой выборке самостоятельно.\n",
    "\n",
    "Дополнительно измеряйте *AUC-ROC*, сравнивайте её значение с *F1*-мерой.\n",
    "\n",
    "Источник данных: [https://www.kaggle.com/barelydedicated/bank-customer-churn-modeling](https://www.kaggle.com/barelydedicated/bank-customer-churn-modeling)"
   ]
  },
  {
   "cell_type": "markdown",
   "metadata": {},
   "source": [
    "## Подготовка данных"
   ]
  },
  {
   "cell_type": "code",
   "execution_count": 13,
   "metadata": {},
   "outputs": [],
   "source": [
    "import pandas as pd\n",
    "from sklearn.preprocessing import StandardScaler \n",
    "from sklearn.model_selection import train_test_split, GridSearchCV\n",
    "from sklearn.utils import shuffle\n",
    "from sklearn.tree import DecisionTreeClassifier\n",
    "from sklearn.metrics import f1_score\n",
    "from sklearn.ensemble import RandomForestClassifier\n",
    "from sklearn.linear_model import LogisticRegression\n",
    "from sklearn.metrics import roc_auc_score\n",
    "from sklearn.preprocessing import MinMaxScaler\n",
    "import warnings\n",
    "warnings.filterwarnings(\"ignore\")"
   ]
  },
  {
   "cell_type": "code",
   "execution_count": 14,
   "metadata": {},
   "outputs": [],
   "source": [
    "data=pd.read_csv('/datasets/Churn.csv')"
   ]
  },
  {
   "cell_type": "code",
   "execution_count": 15,
   "metadata": {},
   "outputs": [
    {
     "name": "stdout",
     "output_type": "stream",
     "text": [
      "<class 'pandas.core.frame.DataFrame'>\n",
      "RangeIndex: 10000 entries, 0 to 9999\n",
      "Data columns (total 14 columns):\n",
      " #   Column           Non-Null Count  Dtype  \n",
      "---  ------           --------------  -----  \n",
      " 0   RowNumber        10000 non-null  int64  \n",
      " 1   CustomerId       10000 non-null  int64  \n",
      " 2   Surname          10000 non-null  object \n",
      " 3   CreditScore      10000 non-null  int64  \n",
      " 4   Geography        10000 non-null  object \n",
      " 5   Gender           10000 non-null  object \n",
      " 6   Age              10000 non-null  int64  \n",
      " 7   Tenure           9091 non-null   float64\n",
      " 8   Balance          10000 non-null  float64\n",
      " 9   NumOfProducts    10000 non-null  int64  \n",
      " 10  HasCrCard        10000 non-null  int64  \n",
      " 11  IsActiveMember   10000 non-null  int64  \n",
      " 12  EstimatedSalary  10000 non-null  float64\n",
      " 13  Exited           10000 non-null  int64  \n",
      "dtypes: float64(3), int64(8), object(3)\n",
      "memory usage: 1.1+ MB\n"
     ]
    }
   ],
   "source": [
    "data.info()"
   ]
  },
  {
   "cell_type": "markdown",
   "metadata": {},
   "source": [
    "Целевой признак 'Exited',именно его нам необходимо спрогнозировать"
   ]
  },
  {
   "cell_type": "code",
   "execution_count": 16,
   "metadata": {},
   "outputs": [
    {
     "data": {
      "text/html": [
       "<div>\n",
       "<style scoped>\n",
       "    .dataframe tbody tr th:only-of-type {\n",
       "        vertical-align: middle;\n",
       "    }\n",
       "\n",
       "    .dataframe tbody tr th {\n",
       "        vertical-align: top;\n",
       "    }\n",
       "\n",
       "    .dataframe thead th {\n",
       "        text-align: right;\n",
       "    }\n",
       "</style>\n",
       "<table border=\"1\" class=\"dataframe\">\n",
       "  <thead>\n",
       "    <tr style=\"text-align: right;\">\n",
       "      <th></th>\n",
       "      <th>RowNumber</th>\n",
       "      <th>CustomerId</th>\n",
       "      <th>Surname</th>\n",
       "      <th>CreditScore</th>\n",
       "      <th>Geography</th>\n",
       "      <th>Gender</th>\n",
       "      <th>Age</th>\n",
       "      <th>Tenure</th>\n",
       "      <th>Balance</th>\n",
       "      <th>NumOfProducts</th>\n",
       "      <th>HasCrCard</th>\n",
       "      <th>IsActiveMember</th>\n",
       "      <th>EstimatedSalary</th>\n",
       "      <th>Exited</th>\n",
       "    </tr>\n",
       "  </thead>\n",
       "  <tbody>\n",
       "    <tr>\n",
       "      <th>0</th>\n",
       "      <td>1</td>\n",
       "      <td>15634602</td>\n",
       "      <td>Hargrave</td>\n",
       "      <td>619</td>\n",
       "      <td>France</td>\n",
       "      <td>Female</td>\n",
       "      <td>42</td>\n",
       "      <td>2.0</td>\n",
       "      <td>0.00</td>\n",
       "      <td>1</td>\n",
       "      <td>1</td>\n",
       "      <td>1</td>\n",
       "      <td>101348.88</td>\n",
       "      <td>1</td>\n",
       "    </tr>\n",
       "    <tr>\n",
       "      <th>1</th>\n",
       "      <td>2</td>\n",
       "      <td>15647311</td>\n",
       "      <td>Hill</td>\n",
       "      <td>608</td>\n",
       "      <td>Spain</td>\n",
       "      <td>Female</td>\n",
       "      <td>41</td>\n",
       "      <td>1.0</td>\n",
       "      <td>83807.86</td>\n",
       "      <td>1</td>\n",
       "      <td>0</td>\n",
       "      <td>1</td>\n",
       "      <td>112542.58</td>\n",
       "      <td>0</td>\n",
       "    </tr>\n",
       "    <tr>\n",
       "      <th>2</th>\n",
       "      <td>3</td>\n",
       "      <td>15619304</td>\n",
       "      <td>Onio</td>\n",
       "      <td>502</td>\n",
       "      <td>France</td>\n",
       "      <td>Female</td>\n",
       "      <td>42</td>\n",
       "      <td>8.0</td>\n",
       "      <td>159660.80</td>\n",
       "      <td>3</td>\n",
       "      <td>1</td>\n",
       "      <td>0</td>\n",
       "      <td>113931.57</td>\n",
       "      <td>1</td>\n",
       "    </tr>\n",
       "    <tr>\n",
       "      <th>3</th>\n",
       "      <td>4</td>\n",
       "      <td>15701354</td>\n",
       "      <td>Boni</td>\n",
       "      <td>699</td>\n",
       "      <td>France</td>\n",
       "      <td>Female</td>\n",
       "      <td>39</td>\n",
       "      <td>1.0</td>\n",
       "      <td>0.00</td>\n",
       "      <td>2</td>\n",
       "      <td>0</td>\n",
       "      <td>0</td>\n",
       "      <td>93826.63</td>\n",
       "      <td>0</td>\n",
       "    </tr>\n",
       "    <tr>\n",
       "      <th>4</th>\n",
       "      <td>5</td>\n",
       "      <td>15737888</td>\n",
       "      <td>Mitchell</td>\n",
       "      <td>850</td>\n",
       "      <td>Spain</td>\n",
       "      <td>Female</td>\n",
       "      <td>43</td>\n",
       "      <td>2.0</td>\n",
       "      <td>125510.82</td>\n",
       "      <td>1</td>\n",
       "      <td>1</td>\n",
       "      <td>1</td>\n",
       "      <td>79084.10</td>\n",
       "      <td>0</td>\n",
       "    </tr>\n",
       "  </tbody>\n",
       "</table>\n",
       "</div>"
      ],
      "text/plain": [
       "   RowNumber  CustomerId   Surname  CreditScore Geography  Gender  Age  \\\n",
       "0          1    15634602  Hargrave          619    France  Female   42   \n",
       "1          2    15647311      Hill          608     Spain  Female   41   \n",
       "2          3    15619304      Onio          502    France  Female   42   \n",
       "3          4    15701354      Boni          699    France  Female   39   \n",
       "4          5    15737888  Mitchell          850     Spain  Female   43   \n",
       "\n",
       "   Tenure    Balance  NumOfProducts  HasCrCard  IsActiveMember  \\\n",
       "0     2.0       0.00              1          1               1   \n",
       "1     1.0   83807.86              1          0               1   \n",
       "2     8.0  159660.80              3          1               0   \n",
       "3     1.0       0.00              2          0               0   \n",
       "4     2.0  125510.82              1          1               1   \n",
       "\n",
       "   EstimatedSalary  Exited  \n",
       "0        101348.88       1  \n",
       "1        112542.58       0  \n",
       "2        113931.57       1  \n",
       "3         93826.63       0  \n",
       "4         79084.10       0  "
      ]
     },
     "execution_count": 16,
     "metadata": {},
     "output_type": "execute_result"
    }
   ],
   "source": [
    "data.head()"
   ]
  },
  {
   "cell_type": "markdown",
   "metadata": {},
   "source": [
    "Уберем столбцы, которые не пригодятся в предсказании целевого признака"
   ]
  },
  {
   "cell_type": "code",
   "execution_count": 17,
   "metadata": {},
   "outputs": [],
   "source": [
    "data.drop([\"RowNumber\", \"CustomerId\", \"Surname\"], axis=1, inplace=True)"
   ]
  },
  {
   "cell_type": "markdown",
   "metadata": {},
   "source": [
    "Видно , что в данных присутствуют категориальные признаки, чтобы воспользоваться методами машинного обучения необходимо преобразовать их в численные"
   ]
  },
  {
   "cell_type": "code",
   "execution_count": 18,
   "metadata": {},
   "outputs": [],
   "source": [
    "\n",
    "gender_one_hot = pd.get_dummies(data[\"Gender\"], drop_first=True)\n",
    "country_one_hot = pd.get_dummies(data[\"Geography\"], drop_first=True)\n",
    "data.drop([\"Gender\", \"Geography\"], axis=1, inplace=True)\n",
    "data_ohe = pd.concat([data, gender_one_hot, country_one_hot], axis=1)\n"
   ]
  },
  {
   "cell_type": "code",
   "execution_count": 19,
   "metadata": {},
   "outputs": [
    {
     "data": {
      "text/html": [
       "<div>\n",
       "<style scoped>\n",
       "    .dataframe tbody tr th:only-of-type {\n",
       "        vertical-align: middle;\n",
       "    }\n",
       "\n",
       "    .dataframe tbody tr th {\n",
       "        vertical-align: top;\n",
       "    }\n",
       "\n",
       "    .dataframe thead th {\n",
       "        text-align: right;\n",
       "    }\n",
       "</style>\n",
       "<table border=\"1\" class=\"dataframe\">\n",
       "  <thead>\n",
       "    <tr style=\"text-align: right;\">\n",
       "      <th></th>\n",
       "      <th>CreditScore</th>\n",
       "      <th>Age</th>\n",
       "      <th>Tenure</th>\n",
       "      <th>Balance</th>\n",
       "      <th>NumOfProducts</th>\n",
       "      <th>HasCrCard</th>\n",
       "      <th>IsActiveMember</th>\n",
       "      <th>EstimatedSalary</th>\n",
       "      <th>Exited</th>\n",
       "      <th>Male</th>\n",
       "      <th>Germany</th>\n",
       "      <th>Spain</th>\n",
       "    </tr>\n",
       "  </thead>\n",
       "  <tbody>\n",
       "    <tr>\n",
       "      <th>0</th>\n",
       "      <td>619</td>\n",
       "      <td>42</td>\n",
       "      <td>2.0</td>\n",
       "      <td>0.00</td>\n",
       "      <td>1</td>\n",
       "      <td>1</td>\n",
       "      <td>1</td>\n",
       "      <td>101348.88</td>\n",
       "      <td>1</td>\n",
       "      <td>0</td>\n",
       "      <td>0</td>\n",
       "      <td>0</td>\n",
       "    </tr>\n",
       "    <tr>\n",
       "      <th>1</th>\n",
       "      <td>608</td>\n",
       "      <td>41</td>\n",
       "      <td>1.0</td>\n",
       "      <td>83807.86</td>\n",
       "      <td>1</td>\n",
       "      <td>0</td>\n",
       "      <td>1</td>\n",
       "      <td>112542.58</td>\n",
       "      <td>0</td>\n",
       "      <td>0</td>\n",
       "      <td>0</td>\n",
       "      <td>1</td>\n",
       "    </tr>\n",
       "    <tr>\n",
       "      <th>2</th>\n",
       "      <td>502</td>\n",
       "      <td>42</td>\n",
       "      <td>8.0</td>\n",
       "      <td>159660.80</td>\n",
       "      <td>3</td>\n",
       "      <td>1</td>\n",
       "      <td>0</td>\n",
       "      <td>113931.57</td>\n",
       "      <td>1</td>\n",
       "      <td>0</td>\n",
       "      <td>0</td>\n",
       "      <td>0</td>\n",
       "    </tr>\n",
       "    <tr>\n",
       "      <th>3</th>\n",
       "      <td>699</td>\n",
       "      <td>39</td>\n",
       "      <td>1.0</td>\n",
       "      <td>0.00</td>\n",
       "      <td>2</td>\n",
       "      <td>0</td>\n",
       "      <td>0</td>\n",
       "      <td>93826.63</td>\n",
       "      <td>0</td>\n",
       "      <td>0</td>\n",
       "      <td>0</td>\n",
       "      <td>0</td>\n",
       "    </tr>\n",
       "    <tr>\n",
       "      <th>4</th>\n",
       "      <td>850</td>\n",
       "      <td>43</td>\n",
       "      <td>2.0</td>\n",
       "      <td>125510.82</td>\n",
       "      <td>1</td>\n",
       "      <td>1</td>\n",
       "      <td>1</td>\n",
       "      <td>79084.10</td>\n",
       "      <td>0</td>\n",
       "      <td>0</td>\n",
       "      <td>0</td>\n",
       "      <td>1</td>\n",
       "    </tr>\n",
       "  </tbody>\n",
       "</table>\n",
       "</div>"
      ],
      "text/plain": [
       "   CreditScore  Age  Tenure    Balance  NumOfProducts  HasCrCard  \\\n",
       "0          619   42     2.0       0.00              1          1   \n",
       "1          608   41     1.0   83807.86              1          0   \n",
       "2          502   42     8.0  159660.80              3          1   \n",
       "3          699   39     1.0       0.00              2          0   \n",
       "4          850   43     2.0  125510.82              1          1   \n",
       "\n",
       "   IsActiveMember  EstimatedSalary  Exited  Male  Germany  Spain  \n",
       "0               1        101348.88       1     0        0      0  \n",
       "1               1        112542.58       0     0        0      1  \n",
       "2               0        113931.57       1     0        0      0  \n",
       "3               0         93826.63       0     0        0      0  \n",
       "4               1         79084.10       0     0        0      1  "
      ]
     },
     "execution_count": 19,
     "metadata": {},
     "output_type": "execute_result"
    }
   ],
   "source": [
    "data_ohe.head()"
   ]
  },
  {
   "cell_type": "markdown",
   "metadata": {},
   "source": [
    "Найдем количество пропущенных значений"
   ]
  },
  {
   "cell_type": "code",
   "execution_count": 20,
   "metadata": {},
   "outputs": [
    {
     "data": {
      "text/plain": [
       "CreditScore          0\n",
       "Age                  0\n",
       "Tenure             909\n",
       "Balance              0\n",
       "NumOfProducts        0\n",
       "HasCrCard            0\n",
       "IsActiveMember       0\n",
       "EstimatedSalary      0\n",
       "Exited               0\n",
       "Male                 0\n",
       "Germany              0\n",
       "Spain                0\n",
       "dtype: int64"
      ]
     },
     "execution_count": 20,
     "metadata": {},
     "output_type": "execute_result"
    }
   ],
   "source": [
    "data_ohe.isna().sum()"
   ]
  },
  {
   "cell_type": "code",
   "execution_count": 21,
   "metadata": {},
   "outputs": [],
   "source": [
    "target=data['Exited']#отделили целевой признак\n",
    "features=data_ohe.drop('Exited',axis=1)\n",
    "features.fillna(1,inplace=True)\n",
    "features_train, features_test0, target_train, target_test0 = train_test_split(features, target, \n",
    "                                                                              test_size=0.2, \n",
    "                                                                              random_state=1)\n",
    "features_valid, features_test, target_valid, target_test = train_test_split(features_test0, target_test0, \n",
    "                                                                              test_size=0.5, \n",
    "                                                                              random_state=1)\n",
    "\n"
   ]
  },
  {
   "cell_type": "markdown",
   "metadata": {},
   "source": [
    "Разбили данные на три выборки: валидационную, обучающую и тестовую"
   ]
  },
  {
   "cell_type": "code",
   "execution_count": 22,
   "metadata": {},
   "outputs": [],
   "source": [
    "pd.options.mode.chained_assignment=None\n",
    "numeric=['CreditScore','Age','Tenure','Balance','NumOfProducts','EstimatedSalary']\n",
    "scaler=StandardScaler()\n",
    "scaler.fit(features_train[numeric])\n",
    "features_train[numeric]=scaler.transform(features_train[numeric])\n",
    "features_valid[numeric]=scaler.transform(features_valid[numeric])\n",
    "features_test[numeric]=scaler.transform(features_test[numeric])"
   ]
  },
  {
   "cell_type": "markdown",
   "metadata": {},
   "source": [
    "Подготовка даннных на этом завершена: выборка разбита на две, признаки масштабированы, все признаки приведены к численным , выделили целевой признак, все пропущенные значение удалены. Теперь можно приступать к обучению моделей"
   ]
  },
  {
   "cell_type": "markdown",
   "metadata": {},
   "source": [
    "## Исследование задачи"
   ]
  },
  {
   "cell_type": "markdown",
   "metadata": {},
   "source": [
    "Обучим модели машинного обучения без учета балансов классов и измерим значение F1-меры и AUC-ROC"
   ]
  },
  {
   "cell_type": "markdown",
   "metadata": {},
   "source": [
    "Решающее дерево, лучший результат достигается при глубине в 9 деревьев,F1=0.63,AUC-ROC=0.84"
   ]
  },
  {
   "cell_type": "code",
   "execution_count": 23,
   "metadata": {},
   "outputs": [
    {
     "name": "stdout",
     "output_type": "stream",
     "text": [
      "Глубина дерева: 1\n",
      "AUC-ROC: 0.7197347559523405\n",
      "F1: 0.0\n",
      "Глубина дерева: 2\n",
      "AUC-ROC: 0.7713307793330113\n",
      "F1: 0.5337423312883436\n",
      "Глубина дерева: 3\n",
      "AUC-ROC: 0.8228995842377806\n",
      "F1: 0.43697478991596644\n",
      "Глубина дерева: 4\n",
      "AUC-ROC: 0.8468722568879756\n",
      "F1: 0.536082474226804\n",
      "Глубина дерева: 5\n",
      "AUC-ROC: 0.8581713266965616\n",
      "F1: 0.6092307692307692\n",
      "Глубина дерева: 6\n",
      "AUC-ROC: 0.8563238726447512\n",
      "F1: 0.5993265993265994\n",
      "Глубина дерева: 7\n",
      "AUC-ROC: 0.8573887955143953\n",
      "F1: 0.603658536585366\n",
      "Глубина дерева: 8\n",
      "AUC-ROC: 0.8497063806912132\n",
      "F1: 0.620253164556962\n",
      "Глубина дерева: 9\n",
      "AUC-ROC: 0.8456134023775338\n",
      "F1: 0.6358024691358024\n"
     ]
    }
   ],
   "source": [
    "\n",
    "score_ds=0\n",
    "depth_ds=0\n",
    "for i in range(1,10):\n",
    "    DS = DecisionTreeClassifier(max_depth=i,random_state=12345)\n",
    "    DS.fit(features_train,target_train)\n",
    "    predictions_ds=DS.predict(features_valid)\n",
    "    score_ds=f1_score(target_valid, predictions_ds)\n",
    "    prediction_auc_ds=DS.predict_proba(features_valid)[:,1]\n",
    "    auc_roc_ds=roc_auc_score(target_valid,prediction_auc_ds)\n",
    "    print(\"Глубина дерева:\",i)\n",
    "    print(\"AUC-ROC:\",auc_roc_ds)\n",
    "    print(\"F1:\",score_ds)"
   ]
  },
  {
   "cell_type": "markdown",
   "metadata": {},
   "source": [
    "Случайный лес, лучший результат F1=0.58."
   ]
  },
  {
   "cell_type": "code",
   "execution_count": 24,
   "metadata": {},
   "outputs": [
    {
     "name": "stdout",
     "output_type": "stream",
     "text": [
      "F1: 0.6035087719298246\n"
     ]
    }
   ],
   "source": [
    "rfc = RandomForestClassifier()\n",
    "param_grid = { \n",
    "    'n_estimators': [10, 20, 30, 40, 50],\n",
    "    'max_features': ['log2'],\n",
    "    'max_depth' : [5,7,9,11,13,15],\n",
    "    'criterion' : ['gini']\n",
    "}\n",
    "CV_rfc = GridSearchCV(estimator=rfc, param_grid=param_grid, cv=5)\n",
    "CV_rfc.fit(features_train, target_train)\n",
    "predictions = CV_rfc.best_estimator_.predict(features_valid)\n",
    "print(\"F1:\", f1_score(predictions, target_valid))"
   ]
  },
  {
   "cell_type": "markdown",
   "metadata": {},
   "source": [
    "У логистической регрессии наблюдается самый низкий результат f1 метрики, всего 0.34"
   ]
  },
  {
   "cell_type": "code",
   "execution_count": 25,
   "metadata": {},
   "outputs": [
    {
     "name": "stdout",
     "output_type": "stream",
     "text": [
      "F1: 0.3416666666666667\n",
      "AUC-ROC: 0.7924455120135547\n"
     ]
    }
   ],
   "source": [
    "LG = LogisticRegression(max_iter=10000,random_state=12345,solver='liblinear')\n",
    "LG.fit(features_train,target_train)\n",
    "predictions_lg=LG.predict(features_valid)\n",
    "score_lg=f1_score(target_valid, predictions_lg)\n",
    "prediction_auc_lg=LG.predict_proba(features_valid)[:,1]\n",
    "auc_roc_lg=roc_auc_score(target_valid,prediction_auc_lg)\n",
    "\n",
    "print(\"F1:\",score_lg)\n",
    "print('AUC-ROC:',auc_roc_lg)"
   ]
  },
  {
   "cell_type": "markdown",
   "metadata": {},
   "source": [
    "Изучим баланс классов"
   ]
  },
  {
   "cell_type": "markdown",
   "metadata": {},
   "source": [
    "Доля положительных"
   ]
  },
  {
   "cell_type": "code",
   "execution_count": 26,
   "metadata": {},
   "outputs": [
    {
     "data": {
      "text/plain": [
       "0.20369999999999389"
      ]
     },
     "execution_count": 26,
     "metadata": {},
     "output_type": "execute_result"
    }
   ],
   "source": [
    "sum(data[\"Exited\"]/len(data))"
   ]
  },
  {
   "cell_type": "markdown",
   "metadata": {},
   "source": [
    "Доля отрицатльных"
   ]
  },
  {
   "cell_type": "code",
   "execution_count": 27,
   "metadata": {},
   "outputs": [
    {
     "data": {
      "text/plain": [
       "0.7963000000000061"
      ]
     },
     "execution_count": 27,
     "metadata": {},
     "output_type": "execute_result"
    }
   ],
   "source": [
    "1-sum(data[\"Exited\"]/len(data))"
   ]
  },
  {
   "cell_type": "markdown",
   "metadata": {},
   "source": [
    "Были обучены три разные модели: решающее дерево, логистическая регрессия и случайный лес. Лучший результат выдало решающее дерево с глубиной 9,F1=0.63,AUC-ROC=0.84. В наших данных наблюдается дисбаланс с перевесом в сторону отрицательного класса, это влияет на качество обучение моделей, поэтому в следующем пункте будем бороться с дисбалансом."
   ]
  },
  {
   "cell_type": "markdown",
   "metadata": {},
   "source": [
    "## Борьба с дисбалансом"
   ]
  },
  {
   "cell_type": "markdown",
   "metadata": {},
   "source": [
    "Проведем балансировку классов, начнем с метода downsampling,то есть увеличим число меньшего класса"
   ]
  },
  {
   "cell_type": "code",
   "execution_count": 28,
   "metadata": {},
   "outputs": [],
   "source": [
    "def upsample(features, target, repeat):\n",
    "    \n",
    "    features_zeros = features[target == 0]\n",
    "    features_ones = features[target == 1]\n",
    "    target_zeros = target[target == 0]\n",
    "    target_ones = target[target == 1]\n",
    "\n",
    "    features_upsampled = pd.concat([features_zeros] + [features_ones] * repeat)\n",
    "    target_upsampled = pd.concat([target_zeros] + [target_ones] * repeat)\n",
    "    \n",
    "    features_upsampled, target_upsampled = shuffle(\n",
    "        features_upsampled, target_upsampled, random_state=12345)\n",
    "    return features_upsampled, target_upsampled\n",
    "features_upsampled_train, target_upsampled_train = upsample(features_train, target_train, repeat=4)"
   ]
  },
  {
   "cell_type": "markdown",
   "metadata": {},
   "source": [
    "Показатели у логистической регрессии заметно выросли и F1 достигла значения 0.49"
   ]
  },
  {
   "cell_type": "code",
   "execution_count": 29,
   "metadata": {},
   "outputs": [
    {
     "name": "stdout",
     "output_type": "stream",
     "text": [
      "F1: 0.49717514124293793\n",
      "AUC-ROC: 0.7976442409107302\n"
     ]
    }
   ],
   "source": [
    "LG = LogisticRegression(max_iter=100000,random_state=12345,solver='liblinear')\n",
    "LG.fit(features_upsampled_train,target_upsampled_train)\n",
    "predictions_lg=LG.predict(features_valid)\n",
    "score_lg=f1_score(target_valid, predictions_lg)\n",
    "prediction_auc_lg=LG.predict_proba(features_valid)[:,1]\n",
    "auc_roc_lg=roc_auc_score(target_valid,prediction_auc_lg)\n",
    "print(\"F1:\",score_lg)\n",
    "print('AUC-ROC:',auc_roc_lg)"
   ]
  },
  {
   "cell_type": "markdown",
   "metadata": {},
   "source": [
    "В моедли случайного леса также наблюдается заметное улучшение, лучшее значение F1=0.6 получается у модели с 8 деревьями"
   ]
  },
  {
   "cell_type": "code",
   "execution_count": 30,
   "metadata": {},
   "outputs": [
    {
     "data": {
      "text/plain": [
       "GridSearchCV(cv=5, estimator=RandomForestClassifier(),\n",
       "             param_grid={'criterion': ['gini'],\n",
       "                         'max_depth': [5, 7, 9, 11, 13, 15],\n",
       "                         'max_features': ['log2'],\n",
       "                         'n_estimators': [10, 20, 30, 40, 50]})"
      ]
     },
     "execution_count": 30,
     "metadata": {},
     "output_type": "execute_result"
    }
   ],
   "source": [
    "CV_rfc = GridSearchCV(estimator=rfc, param_grid=param_grid, cv=5)\n",
    "CV_rfc.fit(features_upsampled_train, target_upsampled_train)"
   ]
  },
  {
   "cell_type": "code",
   "execution_count": 31,
   "metadata": {},
   "outputs": [
    {
     "name": "stdout",
     "output_type": "stream",
     "text": [
      "F1: 0.6094674556213018\n"
     ]
    }
   ],
   "source": [
    "\n",
    "predictions = CV_rfc.best_estimator_.predict(features_valid)\n",
    "\n",
    "print(\"F1:\", f1_score(predictions, target_valid))"
   ]
  },
  {
   "cell_type": "markdown",
   "metadata": {},
   "source": [
    "Модель решающего дерева  показывает  снижение качества, F1 мера достигла 0.55 с глубиной в 6 деревьев"
   ]
  },
  {
   "cell_type": "code",
   "execution_count": 32,
   "metadata": {},
   "outputs": [
    {
     "name": "stdout",
     "output_type": "stream",
     "text": [
      "Глубина дерева: 1\n",
      "AUC-ROC: 0.7206601841329896\n",
      "F1: 0.4854368932038835\n",
      "Глубина дерева: 2\n",
      "AUC-ROC: 0.772215379799808\n",
      "F1: 0.5066666666666667\n",
      "Глубина дерева: 3\n",
      "AUC-ROC: 0.8250668553814329\n",
      "F1: 0.5066666666666667\n",
      "Глубина дерева: 4\n",
      "AUC-ROC: 0.8459400240883511\n",
      "F1: 0.5555555555555556\n",
      "Глубина дерева: 5\n",
      "AUC-ROC: 0.8603011724358494\n",
      "F1: 0.5394990366088632\n",
      "Глубина дерева: 6\n",
      "AUC-ROC: 0.8585319715022559\n",
      "F1: 0.5576519916142558\n",
      "Глубина дерева: 7\n",
      "AUC-ROC: 0.8556842384610673\n",
      "F1: 0.5650406504065042\n",
      "Глубина дерева: 8\n",
      "AUC-ROC: 0.839846487795916\n",
      "F1: 0.548936170212766\n",
      "Глубина дерева: 9\n",
      "AUC-ROC: 0.8201062881483951\n",
      "F1: 0.5527426160337553\n"
     ]
    }
   ],
   "source": [
    "score_ds=0\n",
    "depth_ds=0\n",
    "for i in range(1,10):\n",
    "    DS = DecisionTreeClassifier(max_depth=i,random_state=12345)\n",
    "    DS.fit(features_upsampled_train,target_upsampled_train)\n",
    "    predictions_ds=DS.predict(features_valid)\n",
    "    score_ds=f1_score(target_valid, predictions_ds)\n",
    "    prediction_auc_ds=DS.predict_proba(features_valid)[:,1]\n",
    "    auc_roc_ds=roc_auc_score(target_valid,prediction_auc_ds)\n",
    "    print(\"Глубина дерева:\",i)\n",
    "    print(\"AUC-ROC:\",auc_roc_ds)\n",
    "    print(\"F1:\",score_ds)"
   ]
  },
  {
   "cell_type": "markdown",
   "metadata": {},
   "source": [
    "Теперь попробуем метод downsampe,который убирает часть объектов"
   ]
  },
  {
   "cell_type": "code",
   "execution_count": 33,
   "metadata": {},
   "outputs": [],
   "source": [
    "def downsample(features, target, fraction):\n",
    "    features_zeros = features[target == 0]\n",
    "    features_ones = features[target == 1]\n",
    "    target_zeros = target[target == 0]\n",
    "    target_ones = target[target == 1]\n",
    "    features_downsampled = pd.concat(\n",
    "    [features_zeros.sample(frac=fraction, random_state=12345)] + [features_ones])\n",
    "    target_downsampled = pd.concat(\n",
    "    [target_zeros.sample(frac=fraction, random_state=12345)] + [target_ones])\n",
    "    features_downsampled, target_downsampled = shuffle(\n",
    "    features_downsampled, target_downsampled, random_state=12345)\n",
    "    return features_downsampled, target_downsampled\n",
    "features_downsample_train,target_downsample_train=downsample(features_train, target_train, fraction=0.5)\n"
   ]
  },
  {
   "cell_type": "code",
   "execution_count": 34,
   "metadata": {},
   "outputs": [
    {
     "name": "stdout",
     "output_type": "stream",
     "text": [
      "Глубина дерева: 1\n",
      "AUC-ROC: 0.7197347559523405\n",
      "F1: 0.4927536231884057\n",
      "Глубина дерева: 2\n",
      "AUC-ROC: 0.7713307793330113\n",
      "F1: 0.5337423312883436\n",
      "Глубина дерева: 3\n",
      "AUC-ROC: 0.8228553542144408\n",
      "F1: 0.573134328358209\n",
      "Глубина дерева: 4\n",
      "AUC-ROC: 0.8483012268728013\n",
      "F1: 0.5448504983388704\n",
      "Глубина дерева: 5\n",
      "AUC-ROC: 0.8545376601637191\n",
      "F1: 0.5913978494623656\n",
      "Глубина дерева: 6\n",
      "AUC-ROC: 0.8487333201777366\n",
      "F1: 0.6022727272727273\n",
      "Глубина дерева: 7\n",
      "AUC-ROC: 0.8236821154199471\n",
      "F1: 0.5941644562334218\n",
      "Глубина дерева: 8\n",
      "AUC-ROC: 0.8162854945937302\n",
      "F1: 0.582010582010582\n",
      "Глубина дерева: 9\n",
      "AUC-ROC: 0.7860253540103022\n",
      "F1: 0.5891472868217054\n"
     ]
    }
   ],
   "source": [
    "score_ds=0\n",
    "depth_ds=0\n",
    "for i in range(1,10):\n",
    "    DS = DecisionTreeClassifier(max_depth=i,random_state=12345)\n",
    "    DS.fit(features_downsample_train,target_downsample_train)\n",
    "    predictions_ds=DS.predict(features_valid)\n",
    "    score_ds=f1_score(target_valid, predictions_ds)\n",
    "    prediction_auc_ds=DS.predict_proba(features_valid)[:,1]\n",
    "    auc_roc_ds=roc_auc_score(target_valid,prediction_auc_ds)\n",
    "    print(\"Глубина дерева:\",i)\n",
    "    print(\"AUC-ROC:\",auc_roc_ds)\n",
    "    print(\"F1:\",score_ds)"
   ]
  },
  {
   "cell_type": "markdown",
   "metadata": {},
   "source": [
    "F1 метрика уменьшилась у логистической регрессии до 0.47"
   ]
  },
  {
   "cell_type": "code",
   "execution_count": 35,
   "metadata": {},
   "outputs": [
    {
     "name": "stdout",
     "output_type": "stream",
     "text": [
      "F1: 0.4764705882352941\n",
      "AUC-ROC: 0.7951945780796004\n"
     ]
    }
   ],
   "source": [
    "LG = LogisticRegression(max_iter=100000,random_state=12345,solver='liblinear')\n",
    "LG.fit(features_downsample_train,target_downsample_train)\n",
    "predictions_lg=LG.predict(features_valid)\n",
    "score_lg=f1_score(target_valid, predictions_lg)\n",
    "prediction_auc_lg=LG.predict_proba(features_valid)[:,1]\n",
    "auc_roc_lg=roc_auc_score(target_valid,prediction_auc_lg)\n",
    "print(\"F1:\",score_lg)\n",
    "print('AUC-ROC:',auc_roc_lg)"
   ]
  },
  {
   "cell_type": "markdown",
   "metadata": {},
   "source": [
    " F1 метрика у случайного леса увеличилась до 0.61(6 деревьев)"
   ]
  },
  {
   "cell_type": "code",
   "execution_count": 36,
   "metadata": {},
   "outputs": [
    {
     "data": {
      "text/plain": [
       "GridSearchCV(cv=5, estimator=RandomForestClassifier(),\n",
       "             param_grid={'criterion': ['gini'],\n",
       "                         'max_depth': [5, 7, 9, 11, 13, 15],\n",
       "                         'max_features': ['log2'],\n",
       "                         'n_estimators': [10, 20, 30, 40, 50]})"
      ]
     },
     "execution_count": 36,
     "metadata": {},
     "output_type": "execute_result"
    }
   ],
   "source": [
    "CV_rfc = GridSearchCV(estimator=rfc, param_grid=param_grid, cv=5)\n",
    "CV_rfc.fit(features_downsample_train, target_downsample_train)\n"
   ]
  },
  {
   "cell_type": "code",
   "execution_count": 37,
   "metadata": {},
   "outputs": [
    {
     "name": "stdout",
     "output_type": "stream",
     "text": [
      "F1: 0.6388059701492537\n"
     ]
    }
   ],
   "source": [
    "predictions_cv = CV_rfc.best_estimator_.predict(features_valid)\n",
    "print(\"F1:\", f1_score(predictions_cv, target_valid))"
   ]
  },
  {
   "cell_type": "markdown",
   "metadata": {},
   "source": [
    "F1 метрика у решающего дерева уменьшилась до 0.6"
   ]
  },
  {
   "cell_type": "markdown",
   "metadata": {},
   "source": [
    "Было протестировано два методы по борьбе с дисбалансом в выборке, метод downsample дает лучший результат для случайного леса ( f1 метрика доходит до 0.61), метод upsample показывает лучший результат для логистической регрессии (f1 метрика доходит до 0.49), оба метода плохо работают с решающим деревом, в обоих случаях f1 метрика уменьшилась. Далее проведем тестирование, полученных моеделей."
   ]
  },
  {
   "cell_type": "markdown",
   "metadata": {},
   "source": [
    "## Тестирование модели"
   ]
  },
  {
   "cell_type": "markdown",
   "metadata": {},
   "source": [
    "Качество модели на тестовой выборке уменьшилось (f1 всего 0.38)"
   ]
  },
  {
   "cell_type": "code",
   "execution_count": 38,
   "metadata": {},
   "outputs": [
    {
     "data": {
      "text/html": [
       "<div>\n",
       "<style scoped>\n",
       "    .dataframe tbody tr th:only-of-type {\n",
       "        vertical-align: middle;\n",
       "    }\n",
       "\n",
       "    .dataframe tbody tr th {\n",
       "        vertical-align: top;\n",
       "    }\n",
       "\n",
       "    .dataframe thead th {\n",
       "        text-align: right;\n",
       "    }\n",
       "</style>\n",
       "<table border=\"1\" class=\"dataframe\">\n",
       "  <thead>\n",
       "    <tr style=\"text-align: right;\">\n",
       "      <th></th>\n",
       "      <th>CreditScore</th>\n",
       "      <th>Age</th>\n",
       "      <th>Tenure</th>\n",
       "      <th>Balance</th>\n",
       "      <th>NumOfProducts</th>\n",
       "      <th>HasCrCard</th>\n",
       "      <th>IsActiveMember</th>\n",
       "      <th>EstimatedSalary</th>\n",
       "      <th>Male</th>\n",
       "      <th>Germany</th>\n",
       "      <th>Spain</th>\n",
       "    </tr>\n",
       "  </thead>\n",
       "  <tbody>\n",
       "    <tr>\n",
       "      <th>82</th>\n",
       "      <td>-1.110092</td>\n",
       "      <td>-0.275810</td>\n",
       "      <td>-1.222668</td>\n",
       "      <td>-1.225992</td>\n",
       "      <td>0.802257</td>\n",
       "      <td>0</td>\n",
       "      <td>0</td>\n",
       "      <td>-1.287514</td>\n",
       "      <td>0</td>\n",
       "      <td>0</td>\n",
       "      <td>0</td>\n",
       "    </tr>\n",
       "    <tr>\n",
       "      <th>7895</th>\n",
       "      <td>0.182954</td>\n",
       "      <td>0.392879</td>\n",
       "      <td>-1.222668</td>\n",
       "      <td>0.586366</td>\n",
       "      <td>-0.911510</td>\n",
       "      <td>1</td>\n",
       "      <td>1</td>\n",
       "      <td>0.004871</td>\n",
       "      <td>1</td>\n",
       "      <td>0</td>\n",
       "      <td>1</td>\n",
       "    </tr>\n",
       "    <tr>\n",
       "      <th>9458</th>\n",
       "      <td>-1.316979</td>\n",
       "      <td>-0.275810</td>\n",
       "      <td>1.123461</td>\n",
       "      <td>1.312961</td>\n",
       "      <td>0.802257</td>\n",
       "      <td>1</td>\n",
       "      <td>0</td>\n",
       "      <td>0.958136</td>\n",
       "      <td>1</td>\n",
       "      <td>0</td>\n",
       "      <td>0</td>\n",
       "    </tr>\n",
       "    <tr>\n",
       "      <th>2560</th>\n",
       "      <td>-0.003244</td>\n",
       "      <td>-0.848973</td>\n",
       "      <td>0.453138</td>\n",
       "      <td>-1.225992</td>\n",
       "      <td>-0.911510</td>\n",
       "      <td>0</td>\n",
       "      <td>0</td>\n",
       "      <td>-0.558374</td>\n",
       "      <td>0</td>\n",
       "      <td>0</td>\n",
       "      <td>1</td>\n",
       "    </tr>\n",
       "    <tr>\n",
       "      <th>6802</th>\n",
       "      <td>0.120888</td>\n",
       "      <td>-0.657919</td>\n",
       "      <td>1.458622</td>\n",
       "      <td>-1.225992</td>\n",
       "      <td>0.802257</td>\n",
       "      <td>0</td>\n",
       "      <td>0</td>\n",
       "      <td>-0.608881</td>\n",
       "      <td>1</td>\n",
       "      <td>0</td>\n",
       "      <td>0</td>\n",
       "    </tr>\n",
       "  </tbody>\n",
       "</table>\n",
       "</div>"
      ],
      "text/plain": [
       "      CreditScore       Age    Tenure   Balance  NumOfProducts  HasCrCard  \\\n",
       "82      -1.110092 -0.275810 -1.222668 -1.225992       0.802257          0   \n",
       "7895     0.182954  0.392879 -1.222668  0.586366      -0.911510          1   \n",
       "9458    -1.316979 -0.275810  1.123461  1.312961       0.802257          1   \n",
       "2560    -0.003244 -0.848973  0.453138 -1.225992      -0.911510          0   \n",
       "6802     0.120888 -0.657919  1.458622 -1.225992       0.802257          0   \n",
       "\n",
       "      IsActiveMember  EstimatedSalary  Male  Germany  Spain  \n",
       "82                 0        -1.287514     0        0      0  \n",
       "7895               1         0.004871     1        0      1  \n",
       "9458               0         0.958136     1        0      0  \n",
       "2560               0        -0.558374     0        0      1  \n",
       "6802               0        -0.608881     1        0      0  "
      ]
     },
     "execution_count": 38,
     "metadata": {},
     "output_type": "execute_result"
    }
   ],
   "source": [
    "#код ревьюера\n",
    "features_test.head()"
   ]
  },
  {
   "cell_type": "code",
   "execution_count": 40,
   "metadata": {},
   "outputs": [
    {
     "name": "stdout",
     "output_type": "stream",
     "text": [
      "F1: 0.6359223300970873\n"
     ]
    }
   ],
   "source": [
    "\n",
    "predictions_test = CV_rfc.best_estimator_.predict(features_test)\n",
    "print(\"F1:\", f1_score(predictions_test, target_test))"
   ]
  },
  {
   "cell_type": "markdown",
   "metadata": {},
   "source": [
    "## Чек-лист готовности проекта"
   ]
  },
  {
   "cell_type": "markdown",
   "metadata": {},
   "source": [
    "Поставьте 'x' в выполненных пунктах. Далее нажмите Shift+Enter."
   ]
  },
  {
   "cell_type": "markdown",
   "metadata": {},
   "source": [
    "- [x]  Jupyter Notebook открыт\n",
    "- [ ]  Весь код выполняется без ошибок\n",
    "- [ ]  Ячейки с кодом расположены в порядке исполнения\n",
    "- [ ]  Выполнен шаг 1: данные подготовлены\n",
    "- [ ]  Выполнен шаг 2: задача исследована\n",
    "    - [ ]  Исследован баланс классов\n",
    "    - [ ]  Изучены модели без учёта дисбаланса\n",
    "    - [ ]  Написаны выводы по результатам исследования\n",
    "- [ ]  Выполнен шаг 3: учтён дисбаланс\n",
    "    - [ ]  Применено несколько способов борьбы с дисбалансом\n",
    "    - [ ]  Написаны выводы по результатам исследования\n",
    "- [ ]  Выполнен шаг 4: проведено тестирование\n",
    "- [ ]  Удалось достичь *F1*-меры не менее 0.59\n",
    "- [ ]  Исследована метрика *AUC-ROC*"
   ]
  },
  {
   "cell_type": "markdown",
   "metadata": {},
   "source": [
    "Итог;\n",
    "Данные были изучены и подготовлены,выборка разбита на две, признаки масштабированы, все признаки приведены к численным , выделили целевой признак, все пропущенные значение удалены.Были обучены три разные модели: решающее дерево, логистическая регрессия и случайный лес. Лучший результат выдало решающее дерево с глубиной 9,F1=0.63,AUC-ROC=0.84. В наших данных наблюдался дисбаланс с перевесом в сторону отрицательного класса.Было протестировано два методы по борьбе с дисбалансом в выборке, метод downsample дает лучший результат для случайного леса ( f1 метрика доходит до 0.61), метод upsample показывает лучший результат для логистической регрессии (f1 метрика доходит до 0.49), оба метода плохо работают с решающим деревом, в обоих случаях f1 метрика уменьшилась.На тестовой выборке модель логистической регрессии показало результат хуже"
   ]
  }
 ],
 "metadata": {
  "ExecuteTimeLog": [
   {
    "duration": 398,
    "start_time": "2023-01-14T14:08:08.094Z"
   },
   {
    "duration": 3,
    "start_time": "2023-01-14T14:08:09.323Z"
   },
   {
    "duration": 77,
    "start_time": "2023-01-14T14:08:37.924Z"
   },
   {
    "duration": 40,
    "start_time": "2023-01-14T14:08:39.575Z"
   },
   {
    "duration": 12,
    "start_time": "2023-01-14T14:08:49.946Z"
   },
   {
    "duration": 48,
    "start_time": "2023-01-14T20:59:00.356Z"
   },
   {
    "duration": 377,
    "start_time": "2023-01-14T20:59:07.266Z"
   },
   {
    "duration": 157,
    "start_time": "2023-01-14T20:59:09.359Z"
   },
   {
    "duration": 13,
    "start_time": "2023-01-14T20:59:11.536Z"
   },
   {
    "duration": 19,
    "start_time": "2023-01-14T20:59:41.767Z"
   },
   {
    "duration": 20,
    "start_time": "2023-01-14T21:00:51.523Z"
   },
   {
    "duration": 12,
    "start_time": "2023-01-14T21:02:45.932Z"
   },
   {
    "duration": 79,
    "start_time": "2023-01-14T21:03:41.813Z"
   },
   {
    "duration": 26,
    "start_time": "2023-01-14T21:09:28.495Z"
   },
   {
    "duration": 1160,
    "start_time": "2023-01-14T21:10:10.005Z"
   },
   {
    "duration": 222,
    "start_time": "2023-01-14T21:15:13.343Z"
   },
   {
    "duration": 9,
    "start_time": "2023-01-14T21:15:18.819Z"
   },
   {
    "duration": 13,
    "start_time": "2023-01-14T21:15:30.102Z"
   },
   {
    "duration": 13,
    "start_time": "2023-01-14T21:15:58.915Z"
   },
   {
    "duration": 9,
    "start_time": "2023-01-14T21:16:54.350Z"
   },
   {
    "duration": 11,
    "start_time": "2023-01-14T21:16:56.151Z"
   },
   {
    "duration": 9,
    "start_time": "2023-01-14T21:17:03.122Z"
   },
   {
    "duration": 421,
    "start_time": "2023-01-14T21:17:10.501Z"
   },
   {
    "duration": 39,
    "start_time": "2023-01-14T21:17:10.924Z"
   },
   {
    "duration": 14,
    "start_time": "2023-01-14T21:17:10.965Z"
   },
   {
    "duration": 19,
    "start_time": "2023-01-14T21:17:10.981Z"
   },
   {
    "duration": 201,
    "start_time": "2023-01-14T21:17:11.001Z"
   },
   {
    "duration": 124,
    "start_time": "2023-01-14T21:17:11.204Z"
   },
   {
    "duration": 364,
    "start_time": "2023-01-14T21:17:39.452Z"
   },
   {
    "duration": 43,
    "start_time": "2023-01-14T21:17:39.818Z"
   },
   {
    "duration": 13,
    "start_time": "2023-01-14T21:17:39.863Z"
   },
   {
    "duration": 23,
    "start_time": "2023-01-14T21:17:39.879Z"
   },
   {
    "duration": 202,
    "start_time": "2023-01-14T21:23:15.689Z"
   },
   {
    "duration": 193,
    "start_time": "2023-01-14T21:23:17.543Z"
   },
   {
    "duration": 27,
    "start_time": "2023-01-14T21:23:27.175Z"
   },
   {
    "duration": 132,
    "start_time": "2023-01-14T21:23:50.108Z"
   },
   {
    "duration": 18,
    "start_time": "2023-01-14T21:24:10.465Z"
   },
   {
    "duration": 16,
    "start_time": "2023-01-14T21:24:18.661Z"
   },
   {
    "duration": 71,
    "start_time": "2023-01-14T21:28:08.725Z"
   },
   {
    "duration": 724,
    "start_time": "2023-01-14T21:29:39.725Z"
   },
   {
    "duration": 3,
    "start_time": "2023-01-14T21:29:41.050Z"
   },
   {
    "duration": 18,
    "start_time": "2023-01-14T21:30:35.983Z"
   },
   {
    "duration": 117,
    "start_time": "2023-01-14T21:34:59.463Z"
   },
   {
    "duration": 88,
    "start_time": "2023-01-14T21:36:02.094Z"
   },
   {
    "duration": 4,
    "start_time": "2023-01-14T21:36:06.532Z"
   },
   {
    "duration": 9,
    "start_time": "2023-01-14T21:36:43.010Z"
   },
   {
    "duration": 4,
    "start_time": "2023-01-14T21:36:45.557Z"
   },
   {
    "duration": 12,
    "start_time": "2023-01-14T21:43:50.210Z"
   },
   {
    "duration": 34,
    "start_time": "2023-01-14T21:44:15.731Z"
   },
   {
    "duration": 28,
    "start_time": "2023-01-14T21:44:25.986Z"
   },
   {
    "duration": 1069,
    "start_time": "2023-01-14T21:44:35.861Z"
   },
   {
    "duration": 39,
    "start_time": "2023-01-14T21:44:36.932Z"
   },
   {
    "duration": 13,
    "start_time": "2023-01-14T21:44:36.973Z"
   },
   {
    "duration": 18,
    "start_time": "2023-01-14T21:44:36.988Z"
   },
   {
    "duration": 194,
    "start_time": "2023-01-14T21:44:37.008Z"
   },
   {
    "duration": 25,
    "start_time": "2023-01-14T21:44:37.204Z"
   },
   {
    "duration": 126,
    "start_time": "2023-01-14T21:44:37.230Z"
   },
   {
    "duration": 29,
    "start_time": "2023-01-14T21:44:37.358Z"
   },
   {
    "duration": 26,
    "start_time": "2023-01-14T21:45:16.846Z"
   },
   {
    "duration": 18,
    "start_time": "2023-01-14T21:45:33.983Z"
   },
   {
    "duration": 28,
    "start_time": "2023-01-14T21:46:43.833Z"
   },
   {
    "duration": 25,
    "start_time": "2023-01-14T21:46:46.457Z"
   },
   {
    "duration": 19,
    "start_time": "2023-01-14T21:46:51.276Z"
   },
   {
    "duration": 1207,
    "start_time": "2023-01-16T16:49:51.730Z"
   },
   {
    "duration": 133,
    "start_time": "2023-01-16T16:49:52.939Z"
   },
   {
    "duration": 15,
    "start_time": "2023-01-16T16:49:53.074Z"
   },
   {
    "duration": 28,
    "start_time": "2023-01-16T16:49:53.090Z"
   },
   {
    "duration": 216,
    "start_time": "2023-01-16T16:49:53.121Z"
   },
   {
    "duration": 19,
    "start_time": "2023-01-16T16:49:53.347Z"
   },
   {
    "duration": 135,
    "start_time": "2023-01-16T16:49:53.368Z"
   },
   {
    "duration": 49,
    "start_time": "2023-01-16T16:49:53.504Z"
   },
   {
    "duration": 31,
    "start_time": "2023-01-16T16:50:00.670Z"
   },
   {
    "duration": 56,
    "start_time": "2023-01-16T17:01:31.966Z"
   },
   {
    "duration": 263,
    "start_time": "2023-01-16T17:02:28.897Z"
   },
   {
    "duration": 166,
    "start_time": "2023-01-16T17:03:15.433Z"
   },
   {
    "duration": 31,
    "start_time": "2023-01-16T17:03:32.018Z"
   },
   {
    "duration": 21,
    "start_time": "2023-01-16T17:03:50.125Z"
   },
   {
    "duration": 4,
    "start_time": "2023-01-16T17:04:13.441Z"
   },
   {
    "duration": 424,
    "start_time": "2023-01-16T17:04:50.164Z"
   },
   {
    "duration": 160,
    "start_time": "2023-01-16T17:05:17.725Z"
   },
   {
    "duration": 151,
    "start_time": "2023-01-16T17:07:17.159Z"
   },
   {
    "duration": 16,
    "start_time": "2023-01-16T17:11:03.729Z"
   },
   {
    "duration": 45,
    "start_time": "2023-01-16T17:11:16.656Z"
   },
   {
    "duration": 41,
    "start_time": "2023-01-16T17:11:42.019Z"
   },
   {
    "duration": 16,
    "start_time": "2023-01-16T17:11:55.673Z"
   },
   {
    "duration": 115,
    "start_time": "2023-01-16T17:12:40.781Z"
   },
   {
    "duration": 1296,
    "start_time": "2023-01-16T17:12:44.664Z"
   },
   {
    "duration": 17,
    "start_time": "2023-01-16T17:13:32.594Z"
   },
   {
    "duration": 12,
    "start_time": "2023-01-16T17:13:43.700Z"
   },
   {
    "duration": 12,
    "start_time": "2023-01-16T17:14:37.620Z"
   },
   {
    "duration": 5,
    "start_time": "2023-01-16T17:14:44.390Z"
   },
   {
    "duration": 18,
    "start_time": "2023-01-16T17:14:59.290Z"
   },
   {
    "duration": 9,
    "start_time": "2023-01-16T17:15:19.257Z"
   },
   {
    "duration": 43,
    "start_time": "2023-01-16T17:15:25.577Z"
   },
   {
    "duration": 26,
    "start_time": "2023-01-16T17:17:13.009Z"
   },
   {
    "duration": 3,
    "start_time": "2023-01-16T17:17:31.336Z"
   },
   {
    "duration": 53,
    "start_time": "2023-01-16T17:17:31.341Z"
   },
   {
    "duration": 15,
    "start_time": "2023-01-16T17:17:31.396Z"
   },
   {
    "duration": 18,
    "start_time": "2023-01-16T17:17:31.413Z"
   },
   {
    "duration": 19,
    "start_time": "2023-01-16T17:17:31.434Z"
   },
   {
    "duration": 26,
    "start_time": "2023-01-16T17:17:31.455Z"
   },
   {
    "duration": 35,
    "start_time": "2023-01-16T17:17:31.484Z"
   },
   {
    "duration": 11,
    "start_time": "2023-01-16T17:17:31.521Z"
   },
   {
    "duration": 11,
    "start_time": "2023-01-16T17:17:31.535Z"
   },
   {
    "duration": 34,
    "start_time": "2023-01-16T17:17:31.547Z"
   },
   {
    "duration": 24,
    "start_time": "2023-01-16T17:17:31.583Z"
   },
   {
    "duration": 43,
    "start_time": "2023-01-16T17:17:31.610Z"
   },
   {
    "duration": 1103,
    "start_time": "2023-01-16T17:17:45.909Z"
   },
   {
    "duration": 38,
    "start_time": "2023-01-16T17:17:47.014Z"
   },
   {
    "duration": 15,
    "start_time": "2023-01-16T17:17:47.056Z"
   },
   {
    "duration": 32,
    "start_time": "2023-01-16T17:17:47.074Z"
   },
   {
    "duration": 6,
    "start_time": "2023-01-16T17:17:47.108Z"
   },
   {
    "duration": 20,
    "start_time": "2023-01-16T17:17:47.116Z"
   },
   {
    "duration": 19,
    "start_time": "2023-01-16T17:17:47.137Z"
   },
   {
    "duration": 20,
    "start_time": "2023-01-16T17:17:47.158Z"
   },
   {
    "duration": 20,
    "start_time": "2023-01-16T17:17:47.180Z"
   },
   {
    "duration": 40,
    "start_time": "2023-01-16T17:17:47.202Z"
   },
   {
    "duration": 49,
    "start_time": "2023-01-16T17:17:47.244Z"
   },
   {
    "duration": 41,
    "start_time": "2023-01-16T17:17:47.305Z"
   },
   {
    "duration": 37,
    "start_time": "2023-01-16T17:18:22.427Z"
   },
   {
    "duration": 45,
    "start_time": "2023-01-16T19:43:27.364Z"
   },
   {
    "duration": 957,
    "start_time": "2023-01-16T19:43:35.963Z"
   },
   {
    "duration": 166,
    "start_time": "2023-01-16T19:43:36.922Z"
   },
   {
    "duration": 15,
    "start_time": "2023-01-16T19:43:37.089Z"
   },
   {
    "duration": 28,
    "start_time": "2023-01-16T19:43:37.105Z"
   },
   {
    "duration": 3,
    "start_time": "2023-01-16T19:43:37.135Z"
   },
   {
    "duration": 13,
    "start_time": "2023-01-16T19:43:37.140Z"
   },
   {
    "duration": 34,
    "start_time": "2023-01-16T19:43:37.155Z"
   },
   {
    "duration": 20,
    "start_time": "2023-01-16T19:43:37.190Z"
   },
   {
    "duration": 25,
    "start_time": "2023-01-16T19:43:37.212Z"
   },
   {
    "duration": 34,
    "start_time": "2023-01-16T19:43:37.238Z"
   },
   {
    "duration": 40,
    "start_time": "2023-01-16T19:43:37.273Z"
   },
   {
    "duration": 68,
    "start_time": "2023-01-16T19:43:37.314Z"
   },
   {
    "duration": 19,
    "start_time": "2023-01-16T19:43:40.433Z"
   },
   {
    "duration": 17,
    "start_time": "2023-01-16T19:43:51.566Z"
   },
   {
    "duration": 17,
    "start_time": "2023-01-16T19:44:11.997Z"
   },
   {
    "duration": 17,
    "start_time": "2023-01-16T19:45:58.521Z"
   },
   {
    "duration": 184,
    "start_time": "2023-01-16T19:46:07.748Z"
   },
   {
    "duration": 182,
    "start_time": "2023-01-16T19:46:53.554Z"
   },
   {
    "duration": 188,
    "start_time": "2023-01-16T19:47:21.146Z"
   },
   {
    "duration": 4,
    "start_time": "2023-01-16T19:51:34.585Z"
   },
   {
    "duration": 197,
    "start_time": "2023-01-16T19:52:16.303Z"
   },
   {
    "duration": 22,
    "start_time": "2023-01-16T19:58:45.917Z"
   },
   {
    "duration": 491,
    "start_time": "2023-01-16T19:59:08.757Z"
   },
   {
    "duration": 193,
    "start_time": "2023-01-16T19:59:39.587Z"
   },
   {
    "duration": 471,
    "start_time": "2023-01-16T20:00:23.388Z"
   },
   {
    "duration": 12,
    "start_time": "2023-01-16T20:03:26.177Z"
   },
   {
    "duration": 117,
    "start_time": "2023-01-16T20:03:40.582Z"
   },
   {
    "duration": 29,
    "start_time": "2023-01-16T20:03:50.792Z"
   },
   {
    "duration": 451,
    "start_time": "2023-01-16T20:03:59.562Z"
   },
   {
    "duration": 14,
    "start_time": "2023-01-16T20:19:25.524Z"
   },
   {
    "duration": 5,
    "start_time": "2023-01-16T20:19:47.349Z"
   },
   {
    "duration": 5,
    "start_time": "2023-01-16T20:20:03.315Z"
   },
   {
    "duration": 5,
    "start_time": "2023-01-16T20:20:05.590Z"
   },
   {
    "duration": 38,
    "start_time": "2023-01-16T20:20:19.229Z"
   },
   {
    "duration": 5,
    "start_time": "2023-01-16T20:20:26.053Z"
   },
   {
    "duration": 1110,
    "start_time": "2023-01-17T18:29:51.250Z"
   },
   {
    "duration": 167,
    "start_time": "2023-01-17T18:29:52.363Z"
   },
   {
    "duration": 15,
    "start_time": "2023-01-17T18:29:52.532Z"
   },
   {
    "duration": 21,
    "start_time": "2023-01-17T18:29:52.549Z"
   },
   {
    "duration": 7,
    "start_time": "2023-01-17T18:29:52.573Z"
   },
   {
    "duration": 25,
    "start_time": "2023-01-17T18:29:52.581Z"
   },
   {
    "duration": 16,
    "start_time": "2023-01-17T18:29:52.608Z"
   },
   {
    "duration": 20,
    "start_time": "2023-01-17T18:29:52.626Z"
   },
   {
    "duration": 10,
    "start_time": "2023-01-17T18:29:52.647Z"
   },
   {
    "duration": 47,
    "start_time": "2023-01-17T18:29:52.659Z"
   },
   {
    "duration": 49,
    "start_time": "2023-01-17T18:29:52.708Z"
   },
   {
    "duration": 250,
    "start_time": "2023-01-17T18:29:52.758Z"
   },
   {
    "duration": 574,
    "start_time": "2023-01-17T18:29:53.010Z"
   },
   {
    "duration": 113,
    "start_time": "2023-01-17T18:29:53.587Z"
   },
   {
    "duration": 84,
    "start_time": "2023-01-17T18:29:53.703Z"
   },
   {
    "duration": 9,
    "start_time": "2023-01-17T18:29:53.789Z"
   },
   {
    "duration": 132,
    "start_time": "2023-01-17T18:38:44.311Z"
   },
   {
    "duration": 3,
    "start_time": "2023-01-17T18:39:08.485Z"
   },
   {
    "duration": 14,
    "start_time": "2023-01-17T18:39:10.026Z"
   },
   {
    "duration": 133,
    "start_time": "2023-01-17T18:41:12.351Z"
   },
   {
    "duration": 33,
    "start_time": "2023-01-17T18:41:22.737Z"
   },
   {
    "duration": 41,
    "start_time": "2023-01-17T18:42:20.123Z"
   },
   {
    "duration": 36,
    "start_time": "2023-01-17T18:42:51.408Z"
   },
   {
    "duration": 38,
    "start_time": "2023-01-17T18:42:57.105Z"
   },
   {
    "duration": 629,
    "start_time": "2023-01-17T18:43:58.866Z"
   },
   {
    "duration": 644,
    "start_time": "2023-01-17T18:44:50.752Z"
   },
   {
    "duration": 245,
    "start_time": "2023-01-17T18:45:09.105Z"
   },
   {
    "duration": 11,
    "start_time": "2023-01-17T18:45:33.663Z"
   },
   {
    "duration": 36,
    "start_time": "2023-01-17T18:46:17.801Z"
   },
   {
    "duration": 624,
    "start_time": "2023-01-17T18:47:31.761Z"
   },
   {
    "duration": 46,
    "start_time": "2023-01-17T18:48:29.618Z"
   },
   {
    "duration": 22,
    "start_time": "2023-01-17T18:48:42.719Z"
   },
   {
    "duration": 245,
    "start_time": "2023-01-17T18:49:39.669Z"
   },
   {
    "duration": 47,
    "start_time": "2023-01-17T18:57:16.854Z"
   },
   {
    "duration": 28,
    "start_time": "2023-01-17T18:57:23.813Z"
   },
   {
    "duration": 12,
    "start_time": "2023-01-17T18:57:43.811Z"
   },
   {
    "duration": 11,
    "start_time": "2023-01-17T18:57:48.738Z"
   },
   {
    "duration": 15,
    "start_time": "2023-01-17T18:58:27.311Z"
   },
   {
    "duration": 13,
    "start_time": "2023-01-17T18:58:41.675Z"
   },
   {
    "duration": 10,
    "start_time": "2023-01-17T18:58:43.332Z"
   },
   {
    "duration": 24,
    "start_time": "2023-01-17T18:58:50.823Z"
   },
   {
    "duration": 84,
    "start_time": "2023-01-17T18:59:05.605Z"
   },
   {
    "duration": 400,
    "start_time": "2023-01-17T18:59:23.731Z"
   },
   {
    "duration": 378,
    "start_time": "2023-01-17T19:00:01.628Z"
   },
   {
    "duration": 153,
    "start_time": "2023-01-17T19:00:19.150Z"
   },
   {
    "duration": 17,
    "start_time": "2023-01-17T19:00:35.407Z"
   },
   {
    "duration": 34,
    "start_time": "2023-01-17T19:01:15.659Z"
   },
   {
    "duration": 390,
    "start_time": "2023-01-17T19:02:55.520Z"
   },
   {
    "duration": 55,
    "start_time": "2023-01-17T19:03:16.981Z"
   },
   {
    "duration": 19,
    "start_time": "2023-01-17T19:05:44.430Z"
   },
   {
    "duration": 10,
    "start_time": "2023-01-17T19:05:58.816Z"
   },
   {
    "duration": 1079,
    "start_time": "2023-01-17T19:06:08.898Z"
   },
   {
    "duration": 46,
    "start_time": "2023-01-17T19:06:09.979Z"
   },
   {
    "duration": 15,
    "start_time": "2023-01-17T19:06:10.027Z"
   },
   {
    "duration": 23,
    "start_time": "2023-01-17T19:06:10.044Z"
   },
   {
    "duration": 5,
    "start_time": "2023-01-17T19:06:10.070Z"
   },
   {
    "duration": 32,
    "start_time": "2023-01-17T19:06:10.077Z"
   },
   {
    "duration": 13,
    "start_time": "2023-01-17T19:06:10.111Z"
   },
   {
    "duration": 8,
    "start_time": "2023-01-17T19:06:10.126Z"
   },
   {
    "duration": 12,
    "start_time": "2023-01-17T19:06:10.136Z"
   },
   {
    "duration": 52,
    "start_time": "2023-01-17T19:06:10.150Z"
   },
   {
    "duration": 46,
    "start_time": "2023-01-17T19:06:10.204Z"
   },
   {
    "duration": 229,
    "start_time": "2023-01-17T19:06:10.252Z"
   },
   {
    "duration": 578,
    "start_time": "2023-01-17T19:06:10.492Z"
   },
   {
    "duration": 35,
    "start_time": "2023-01-17T19:06:11.080Z"
   },
   {
    "duration": 80,
    "start_time": "2023-01-17T19:06:11.116Z"
   },
   {
    "duration": 94,
    "start_time": "2023-01-17T19:06:11.198Z"
   },
   {
    "duration": 7,
    "start_time": "2023-01-17T19:06:11.300Z"
   },
   {
    "duration": 15,
    "start_time": "2023-01-17T19:06:11.309Z"
   },
   {
    "duration": 66,
    "start_time": "2023-01-17T19:06:11.326Z"
   },
   {
    "duration": 902,
    "start_time": "2023-01-17T19:06:11.394Z"
   },
   {
    "duration": 265,
    "start_time": "2023-01-17T19:06:12.297Z"
   },
   {
    "duration": 26,
    "start_time": "2023-01-17T19:06:12.564Z"
   },
   {
    "duration": 112,
    "start_time": "2023-01-17T19:06:12.592Z"
   },
   {
    "duration": 559,
    "start_time": "2023-01-17T19:06:12.706Z"
   },
   {
    "duration": 178,
    "start_time": "2023-01-17T19:06:13.266Z"
   },
   {
    "duration": 10,
    "start_time": "2023-01-17T19:37:31.719Z"
   },
   {
    "duration": 1043,
    "start_time": "2023-01-17T19:37:38.607Z"
   },
   {
    "duration": 44,
    "start_time": "2023-01-17T19:37:39.652Z"
   },
   {
    "duration": 13,
    "start_time": "2023-01-17T19:37:39.698Z"
   },
   {
    "duration": 17,
    "start_time": "2023-01-17T19:37:39.713Z"
   },
   {
    "duration": 4,
    "start_time": "2023-01-17T19:37:39.732Z"
   },
   {
    "duration": 14,
    "start_time": "2023-01-17T19:37:39.737Z"
   },
   {
    "duration": 10,
    "start_time": "2023-01-17T19:37:39.753Z"
   },
   {
    "duration": 12,
    "start_time": "2023-01-17T19:37:39.787Z"
   },
   {
    "duration": 11,
    "start_time": "2023-01-17T19:37:39.800Z"
   },
   {
    "duration": 24,
    "start_time": "2023-01-17T19:37:39.813Z"
   },
   {
    "duration": 62,
    "start_time": "2023-01-17T19:37:39.839Z"
   },
   {
    "duration": 208,
    "start_time": "2023-01-17T19:37:39.903Z"
   },
   {
    "duration": 508,
    "start_time": "2023-01-17T19:37:40.113Z"
   },
   {
    "duration": 67,
    "start_time": "2023-01-17T19:37:40.624Z"
   },
   {
    "duration": 8,
    "start_time": "2023-01-17T19:37:40.693Z"
   },
   {
    "duration": 105,
    "start_time": "2023-01-17T19:37:40.702Z"
   },
   {
    "duration": 3,
    "start_time": "2023-01-17T19:37:40.809Z"
   },
   {
    "duration": 18,
    "start_time": "2023-01-17T19:37:40.813Z"
   },
   {
    "duration": 153,
    "start_time": "2023-01-17T19:37:40.833Z"
   },
   {
    "duration": 736,
    "start_time": "2023-01-17T19:37:40.987Z"
   },
   {
    "duration": 262,
    "start_time": "2023-01-17T19:37:41.724Z"
   },
   {
    "duration": 13,
    "start_time": "2023-01-17T19:37:41.987Z"
   },
   {
    "duration": 94,
    "start_time": "2023-01-17T19:37:42.001Z"
   },
   {
    "duration": 458,
    "start_time": "2023-01-17T19:37:42.098Z"
   },
   {
    "duration": 175,
    "start_time": "2023-01-17T19:37:42.557Z"
   },
   {
    "duration": 19,
    "start_time": "2023-01-17T19:38:04.905Z"
   },
   {
    "duration": 658,
    "start_time": "2023-01-17T19:40:31.090Z"
   },
   {
    "duration": 157,
    "start_time": "2023-01-17T19:44:26.839Z"
   },
   {
    "duration": 318,
    "start_time": "2023-01-17T19:49:15.202Z"
   },
   {
    "duration": 204,
    "start_time": "2023-01-17T19:49:34.974Z"
   },
   {
    "duration": 469,
    "start_time": "2023-01-17T19:49:40.587Z"
   },
   {
    "duration": 44,
    "start_time": "2023-01-17T19:51:25.292Z"
   },
   {
    "duration": 105,
    "start_time": "2023-01-17T19:53:18.197Z"
   },
   {
    "duration": 364,
    "start_time": "2023-01-17T19:55:25.174Z"
   },
   {
    "duration": 370,
    "start_time": "2023-01-17T19:55:35.721Z"
   },
   {
    "duration": 28,
    "start_time": "2023-01-17T19:56:16.730Z"
   },
   {
    "duration": 52,
    "start_time": "2023-01-17T19:57:01.906Z"
   },
   {
    "duration": 9,
    "start_time": "2023-01-17T19:59:52.265Z"
   },
   {
    "duration": 32,
    "start_time": "2023-01-17T20:00:01.018Z"
   },
   {
    "duration": 1121,
    "start_time": "2023-01-17T20:44:41.918Z"
   },
   {
    "duration": 78,
    "start_time": "2023-01-17T20:44:43.041Z"
   },
   {
    "duration": 14,
    "start_time": "2023-01-17T20:44:43.120Z"
   },
   {
    "duration": 41,
    "start_time": "2023-01-17T20:44:43.135Z"
   },
   {
    "duration": 11,
    "start_time": "2023-01-17T20:44:43.178Z"
   },
   {
    "duration": 31,
    "start_time": "2023-01-17T20:44:43.191Z"
   },
   {
    "duration": 31,
    "start_time": "2023-01-17T20:44:43.224Z"
   },
   {
    "duration": 21,
    "start_time": "2023-01-17T20:44:43.256Z"
   },
   {
    "duration": 23,
    "start_time": "2023-01-17T20:44:43.278Z"
   },
   {
    "duration": 33,
    "start_time": "2023-01-17T20:44:43.303Z"
   },
   {
    "duration": 41,
    "start_time": "2023-01-17T20:44:43.338Z"
   },
   {
    "duration": 199,
    "start_time": "2023-01-17T20:44:43.380Z"
   },
   {
    "duration": 526,
    "start_time": "2023-01-17T20:44:43.581Z"
   },
   {
    "duration": 71,
    "start_time": "2023-01-17T20:44:44.111Z"
   },
   {
    "duration": 97,
    "start_time": "2023-01-17T20:44:44.184Z"
   },
   {
    "duration": 16,
    "start_time": "2023-01-17T20:44:44.283Z"
   },
   {
    "duration": 15,
    "start_time": "2023-01-17T20:44:44.300Z"
   },
   {
    "duration": 33,
    "start_time": "2023-01-17T20:44:44.316Z"
   },
   {
    "duration": 127,
    "start_time": "2023-01-17T20:44:44.351Z"
   },
   {
    "duration": 744,
    "start_time": "2023-01-17T20:44:44.480Z"
   },
   {
    "duration": 258,
    "start_time": "2023-01-17T20:44:45.226Z"
   },
   {
    "duration": 11,
    "start_time": "2023-01-17T20:44:45.486Z"
   },
   {
    "duration": 80,
    "start_time": "2023-01-17T20:44:45.499Z"
   },
   {
    "duration": 452,
    "start_time": "2023-01-17T20:44:45.582Z"
   },
   {
    "duration": 160,
    "start_time": "2023-01-17T20:44:46.036Z"
   },
   {
    "duration": 81,
    "start_time": "2023-01-17T20:44:46.198Z"
   },
   {
    "duration": 5,
    "start_time": "2023-01-17T20:54:40.433Z"
   },
   {
    "duration": 64,
    "start_time": "2023-01-18T16:55:56.503Z"
   },
   {
    "duration": 1099,
    "start_time": "2023-01-18T17:00:03.923Z"
   },
   {
    "duration": 86,
    "start_time": "2023-01-18T17:00:05.024Z"
   },
   {
    "duration": 17,
    "start_time": "2023-01-18T17:00:05.112Z"
   },
   {
    "duration": 19,
    "start_time": "2023-01-18T17:00:05.132Z"
   },
   {
    "duration": 12,
    "start_time": "2023-01-18T17:00:05.152Z"
   },
   {
    "duration": 57,
    "start_time": "2023-01-18T17:00:05.166Z"
   },
   {
    "duration": 16,
    "start_time": "2023-01-18T17:00:05.225Z"
   },
   {
    "duration": 27,
    "start_time": "2023-01-18T17:00:05.242Z"
   },
   {
    "duration": 25,
    "start_time": "2023-01-18T17:00:05.271Z"
   },
   {
    "duration": 23,
    "start_time": "2023-01-18T17:00:05.305Z"
   },
   {
    "duration": 44,
    "start_time": "2023-01-18T17:00:05.329Z"
   },
   {
    "duration": 225,
    "start_time": "2023-01-18T17:00:05.374Z"
   },
   {
    "duration": 635,
    "start_time": "2023-01-18T17:00:05.603Z"
   },
   {
    "duration": 66,
    "start_time": "2023-01-18T17:00:06.240Z"
   },
   {
    "duration": 193,
    "start_time": "2023-01-18T17:00:06.309Z"
   },
   {
    "duration": 12,
    "start_time": "2023-01-18T17:00:06.504Z"
   },
   {
    "duration": 6,
    "start_time": "2023-01-18T17:00:06.517Z"
   },
   {
    "duration": 24,
    "start_time": "2023-01-18T17:00:06.525Z"
   },
   {
    "duration": 140,
    "start_time": "2023-01-18T17:00:06.550Z"
   },
   {
    "duration": 804,
    "start_time": "2023-01-18T17:00:06.693Z"
   },
   {
    "duration": 246,
    "start_time": "2023-01-18T17:00:07.502Z"
   },
   {
    "duration": 11,
    "start_time": "2023-01-18T17:00:07.749Z"
   },
   {
    "duration": 49,
    "start_time": "2023-01-18T17:00:07.762Z"
   },
   {
    "duration": 540,
    "start_time": "2023-01-18T17:00:07.813Z"
   },
   {
    "duration": 167,
    "start_time": "2023-01-18T17:00:08.354Z"
   },
   {
    "duration": 65,
    "start_time": "2023-01-18T17:00:08.523Z"
   },
   {
    "duration": 9,
    "start_time": "2023-01-18T17:03:51.612Z"
   },
   {
    "duration": 3,
    "start_time": "2023-01-18T17:04:28.704Z"
   },
   {
    "duration": 3,
    "start_time": "2023-01-18T17:05:39.118Z"
   },
   {
    "duration": 1124,
    "start_time": "2023-01-19T07:31:17.004Z"
   },
   {
    "duration": 78,
    "start_time": "2023-01-19T07:31:18.130Z"
   },
   {
    "duration": 13,
    "start_time": "2023-01-19T07:31:18.209Z"
   },
   {
    "duration": 22,
    "start_time": "2023-01-19T07:31:18.224Z"
   },
   {
    "duration": 5,
    "start_time": "2023-01-19T07:31:18.247Z"
   },
   {
    "duration": 45,
    "start_time": "2023-01-19T07:31:18.253Z"
   },
   {
    "duration": 13,
    "start_time": "2023-01-19T07:31:18.300Z"
   },
   {
    "duration": 9,
    "start_time": "2023-01-19T07:31:18.315Z"
   },
   {
    "duration": 21,
    "start_time": "2023-01-19T07:31:18.325Z"
   },
   {
    "duration": 29,
    "start_time": "2023-01-19T07:31:18.350Z"
   },
   {
    "duration": 206,
    "start_time": "2023-01-19T07:31:18.381Z"
   },
   {
    "duration": 545,
    "start_time": "2023-01-19T07:31:18.588Z"
   },
   {
    "duration": 99,
    "start_time": "2023-01-19T07:31:19.135Z"
   },
   {
    "duration": 97,
    "start_time": "2023-01-19T07:31:19.236Z"
   },
   {
    "duration": 108,
    "start_time": "2023-01-19T07:31:19.335Z"
   },
   {
    "duration": 15,
    "start_time": "2023-01-19T07:31:19.444Z"
   },
   {
    "duration": 73,
    "start_time": "2023-01-19T07:31:19.461Z"
   },
   {
    "duration": 916,
    "start_time": "2023-01-19T07:31:19.536Z"
   },
   {
    "duration": 285,
    "start_time": "2023-01-19T07:31:20.455Z"
   },
   {
    "duration": 13,
    "start_time": "2023-01-19T07:31:20.742Z"
   },
   {
    "duration": 75,
    "start_time": "2023-01-19T07:31:20.756Z"
   },
   {
    "duration": 472,
    "start_time": "2023-01-19T07:31:20.833Z"
   },
   {
    "duration": 153,
    "start_time": "2023-01-19T07:31:21.307Z"
   },
   {
    "duration": 67,
    "start_time": "2023-01-19T07:31:21.462Z"
   },
   {
    "duration": 116,
    "start_time": "2023-01-19T07:35:03.063Z"
   },
   {
    "duration": 9,
    "start_time": "2023-01-19T07:35:12.308Z"
   },
   {
    "duration": 4,
    "start_time": "2023-01-19T07:36:16.389Z"
   },
   {
    "duration": 0,
    "start_time": "2023-01-19T07:38:23.167Z"
   },
   {
    "duration": 27588,
    "start_time": "2023-01-19T07:38:34.007Z"
   },
   {
    "duration": 38591,
    "start_time": "2023-01-19T07:41:14.840Z"
   },
   {
    "duration": 38418,
    "start_time": "2023-01-19T07:42:11.678Z"
   },
   {
    "duration": 10,
    "start_time": "2023-01-19T07:43:46.844Z"
   },
   {
    "duration": 19318,
    "start_time": "2023-01-19T07:43:57.865Z"
   },
   {
    "duration": 10,
    "start_time": "2023-01-19T07:44:30.068Z"
   },
   {
    "duration": 12,
    "start_time": "2023-01-19T07:44:34.123Z"
   },
   {
    "duration": 13,
    "start_time": "2023-01-19T07:44:49.967Z"
   },
   {
    "duration": 20,
    "start_time": "2023-01-19T07:44:53.022Z"
   },
   {
    "duration": 1173,
    "start_time": "2023-01-19T07:45:06.085Z"
   },
   {
    "duration": 36,
    "start_time": "2023-01-19T07:45:07.260Z"
   },
   {
    "duration": 13,
    "start_time": "2023-01-19T07:45:07.298Z"
   },
   {
    "duration": 23,
    "start_time": "2023-01-19T07:45:07.312Z"
   },
   {
    "duration": 32,
    "start_time": "2023-01-19T07:45:07.338Z"
   },
   {
    "duration": 19,
    "start_time": "2023-01-19T07:45:07.372Z"
   },
   {
    "duration": 11,
    "start_time": "2023-01-19T07:45:07.393Z"
   },
   {
    "duration": 9,
    "start_time": "2023-01-19T07:45:07.406Z"
   },
   {
    "duration": 16,
    "start_time": "2023-01-19T07:45:07.416Z"
   },
   {
    "duration": 26,
    "start_time": "2023-01-19T07:45:07.434Z"
   },
   {
    "duration": 224,
    "start_time": "2023-01-19T07:45:07.462Z"
   },
   {
    "duration": 27450,
    "start_time": "2023-01-19T07:45:07.688Z"
   },
   {
    "duration": 31,
    "start_time": "2023-01-19T07:45:35.140Z"
   },
   {
    "duration": 12,
    "start_time": "2023-01-19T07:45:35.231Z"
   },
   {
    "duration": 108,
    "start_time": "2023-01-19T07:45:35.245Z"
   },
   {
    "duration": 29,
    "start_time": "2023-01-19T07:45:35.354Z"
   },
   {
    "duration": 48,
    "start_time": "2023-01-19T07:45:35.385Z"
   },
   {
    "duration": 38004,
    "start_time": "2023-01-19T07:45:35.435Z"
   },
   {
    "duration": 253,
    "start_time": "2023-01-19T07:46:13.441Z"
   },
   {
    "duration": 12,
    "start_time": "2023-01-19T07:46:13.695Z"
   },
   {
    "duration": 41,
    "start_time": "2023-01-19T07:46:13.708Z"
   },
   {
    "duration": 18768,
    "start_time": "2023-01-19T07:46:13.833Z"
   },
   {
    "duration": 169,
    "start_time": "2023-01-19T07:46:32.603Z"
   },
   {
    "duration": 16,
    "start_time": "2023-01-19T07:46:32.774Z"
   },
   {
    "duration": 11,
    "start_time": "2023-01-19T07:48:40.469Z"
   },
   {
    "duration": 1118,
    "start_time": "2023-01-19T07:48:49.965Z"
   },
   {
    "duration": 36,
    "start_time": "2023-01-19T07:48:51.087Z"
   },
   {
    "duration": 13,
    "start_time": "2023-01-19T07:48:51.125Z"
   },
   {
    "duration": 26,
    "start_time": "2023-01-19T07:48:51.139Z"
   },
   {
    "duration": 4,
    "start_time": "2023-01-19T07:48:51.168Z"
   },
   {
    "duration": 26,
    "start_time": "2023-01-19T07:48:51.173Z"
   },
   {
    "duration": 36,
    "start_time": "2023-01-19T07:48:51.201Z"
   },
   {
    "duration": 28,
    "start_time": "2023-01-19T07:48:51.239Z"
   },
   {
    "duration": 15,
    "start_time": "2023-01-19T07:48:51.268Z"
   },
   {
    "duration": 37,
    "start_time": "2023-01-19T07:48:51.285Z"
   },
   {
    "duration": 202,
    "start_time": "2023-01-19T07:48:51.325Z"
   },
   {
    "duration": 27259,
    "start_time": "2023-01-19T07:48:51.529Z"
   },
   {
    "duration": 45,
    "start_time": "2023-01-19T07:49:18.790Z"
   },
   {
    "duration": 196,
    "start_time": "2023-01-19T07:49:18.838Z"
   },
   {
    "duration": 9,
    "start_time": "2023-01-19T07:49:19.037Z"
   },
   {
    "duration": 16,
    "start_time": "2023-01-19T07:49:19.048Z"
   },
   {
    "duration": 66,
    "start_time": "2023-01-19T07:49:19.066Z"
   },
   {
    "duration": 37553,
    "start_time": "2023-01-19T07:49:19.134Z"
   },
   {
    "duration": 267,
    "start_time": "2023-01-19T07:49:56.688Z"
   },
   {
    "duration": 13,
    "start_time": "2023-01-19T07:49:56.957Z"
   },
   {
    "duration": 61,
    "start_time": "2023-01-19T07:49:56.971Z"
   },
   {
    "duration": 18470,
    "start_time": "2023-01-19T07:49:57.033Z"
   },
   {
    "duration": 164,
    "start_time": "2023-01-19T07:50:15.505Z"
   },
   {
    "duration": 18,
    "start_time": "2023-01-19T07:50:15.671Z"
   },
   {
    "duration": 4,
    "start_time": "2023-01-19T07:55:29.069Z"
   },
   {
    "duration": 98,
    "start_time": "2023-01-19T07:56:12.338Z"
   },
   {
    "duration": 10,
    "start_time": "2023-01-19T07:56:19.437Z"
   },
   {
    "duration": 14,
    "start_time": "2023-01-19T07:56:27.294Z"
   },
   {
    "duration": 1108,
    "start_time": "2023-01-19T07:56:39.372Z"
   },
   {
    "duration": 4,
    "start_time": "2023-01-19T07:58:34.532Z"
   },
   {
    "duration": 1143,
    "start_time": "2023-01-19T07:58:39.746Z"
   },
   {
    "duration": 1152,
    "start_time": "2023-01-19T07:59:20.898Z"
   },
   {
    "duration": 36,
    "start_time": "2023-01-19T07:59:22.053Z"
   },
   {
    "duration": 14,
    "start_time": "2023-01-19T07:59:22.090Z"
   },
   {
    "duration": 19,
    "start_time": "2023-01-19T07:59:22.105Z"
   },
   {
    "duration": 11,
    "start_time": "2023-01-19T07:59:22.126Z"
   },
   {
    "duration": 16,
    "start_time": "2023-01-19T07:59:22.139Z"
   },
   {
    "duration": 18,
    "start_time": "2023-01-19T07:59:22.157Z"
   },
   {
    "duration": 10,
    "start_time": "2023-01-19T07:59:22.177Z"
   },
   {
    "duration": 28,
    "start_time": "2023-01-19T07:59:22.189Z"
   },
   {
    "duration": 28,
    "start_time": "2023-01-19T07:59:22.219Z"
   },
   {
    "duration": 118,
    "start_time": "2023-01-19T07:59:22.248Z"
   },
   {
    "duration": 0,
    "start_time": "2023-01-19T07:59:22.368Z"
   },
   {
    "duration": 0,
    "start_time": "2023-01-19T07:59:22.370Z"
   },
   {
    "duration": 0,
    "start_time": "2023-01-19T07:59:22.371Z"
   },
   {
    "duration": 1,
    "start_time": "2023-01-19T07:59:22.372Z"
   },
   {
    "duration": 0,
    "start_time": "2023-01-19T07:59:22.374Z"
   },
   {
    "duration": 0,
    "start_time": "2023-01-19T07:59:22.375Z"
   },
   {
    "duration": 0,
    "start_time": "2023-01-19T07:59:22.376Z"
   },
   {
    "duration": 0,
    "start_time": "2023-01-19T07:59:22.377Z"
   },
   {
    "duration": 0,
    "start_time": "2023-01-19T07:59:22.378Z"
   },
   {
    "duration": 0,
    "start_time": "2023-01-19T07:59:22.380Z"
   },
   {
    "duration": 0,
    "start_time": "2023-01-19T07:59:22.381Z"
   },
   {
    "duration": 0,
    "start_time": "2023-01-19T07:59:22.382Z"
   },
   {
    "duration": 0,
    "start_time": "2023-01-19T07:59:22.383Z"
   },
   {
    "duration": 4,
    "start_time": "2023-01-19T08:00:02.835Z"
   },
   {
    "duration": 1369,
    "start_time": "2023-01-19T08:00:06.628Z"
   },
   {
    "duration": 1139,
    "start_time": "2023-01-19T08:00:30.800Z"
   },
   {
    "duration": 35,
    "start_time": "2023-01-19T08:00:31.941Z"
   },
   {
    "duration": 13,
    "start_time": "2023-01-19T08:00:31.977Z"
   },
   {
    "duration": 37,
    "start_time": "2023-01-19T08:00:31.992Z"
   },
   {
    "duration": 13,
    "start_time": "2023-01-19T08:00:32.030Z"
   },
   {
    "duration": 42,
    "start_time": "2023-01-19T08:00:32.044Z"
   },
   {
    "duration": 23,
    "start_time": "2023-01-19T08:00:32.087Z"
   },
   {
    "duration": 23,
    "start_time": "2023-01-19T08:00:32.112Z"
   },
   {
    "duration": 24,
    "start_time": "2023-01-19T08:00:32.137Z"
   },
   {
    "duration": 49,
    "start_time": "2023-01-19T08:00:32.164Z"
   },
   {
    "duration": 205,
    "start_time": "2023-01-19T08:00:32.214Z"
   },
   {
    "duration": 26108,
    "start_time": "2023-01-19T08:00:32.420Z"
   },
   {
    "duration": 27,
    "start_time": "2023-01-19T08:00:58.530Z"
   },
   {
    "duration": 12,
    "start_time": "2023-01-19T08:00:58.627Z"
   },
   {
    "duration": 95,
    "start_time": "2023-01-19T08:00:58.641Z"
   },
   {
    "duration": 22,
    "start_time": "2023-01-19T08:00:58.737Z"
   },
   {
    "duration": 70,
    "start_time": "2023-01-19T08:00:58.760Z"
   },
   {
    "duration": 37412,
    "start_time": "2023-01-19T08:00:58.832Z"
   },
   {
    "duration": 271,
    "start_time": "2023-01-19T08:01:36.245Z"
   },
   {
    "duration": 13,
    "start_time": "2023-01-19T08:01:36.531Z"
   },
   {
    "duration": 83,
    "start_time": "2023-01-19T08:01:36.546Z"
   },
   {
    "duration": 18166,
    "start_time": "2023-01-19T08:01:36.631Z"
   },
   {
    "duration": 160,
    "start_time": "2023-01-19T08:01:54.799Z"
   },
   {
    "duration": 16,
    "start_time": "2023-01-19T08:01:54.960Z"
   },
   {
    "duration": 1176,
    "start_time": "2023-01-19T08:03:38.010Z"
   },
   {
    "duration": 9,
    "start_time": "2023-01-19T08:03:44.878Z"
   },
   {
    "duration": 12,
    "start_time": "2023-01-19T08:04:36.309Z"
   },
   {
    "duration": 11,
    "start_time": "2023-01-19T08:05:28.952Z"
   },
   {
    "duration": 11,
    "start_time": "2023-01-19T08:05:40.981Z"
   },
   {
    "duration": 7,
    "start_time": "2023-01-19T08:05:50.550Z"
   },
   {
    "duration": 11,
    "start_time": "2023-01-19T08:06:02.045Z"
   },
   {
    "duration": 11,
    "start_time": "2023-01-19T08:06:12.940Z"
   },
   {
    "duration": 1053,
    "start_time": "2023-01-19T08:06:27.470Z"
   },
   {
    "duration": 35,
    "start_time": "2023-01-19T08:06:28.525Z"
   },
   {
    "duration": 13,
    "start_time": "2023-01-19T08:06:28.561Z"
   },
   {
    "duration": 27,
    "start_time": "2023-01-19T08:06:28.576Z"
   },
   {
    "duration": 10,
    "start_time": "2023-01-19T08:06:28.605Z"
   },
   {
    "duration": 23,
    "start_time": "2023-01-19T08:06:28.616Z"
   },
   {
    "duration": 15,
    "start_time": "2023-01-19T08:06:28.641Z"
   },
   {
    "duration": 13,
    "start_time": "2023-01-19T08:06:28.658Z"
   },
   {
    "duration": 13,
    "start_time": "2023-01-19T08:06:28.672Z"
   },
   {
    "duration": 15,
    "start_time": "2023-01-19T08:06:28.687Z"
   },
   {
    "duration": 36,
    "start_time": "2023-01-19T08:06:28.704Z"
   },
   {
    "duration": 195,
    "start_time": "2023-01-19T08:06:28.742Z"
   },
   {
    "duration": 25863,
    "start_time": "2023-01-19T08:06:28.939Z"
   },
   {
    "duration": 35,
    "start_time": "2023-01-19T08:06:54.804Z"
   },
   {
    "duration": 8,
    "start_time": "2023-01-19T08:06:54.929Z"
   },
   {
    "duration": 9,
    "start_time": "2023-01-19T08:06:55.028Z"
   },
   {
    "duration": 18,
    "start_time": "2023-01-19T08:06:55.038Z"
   },
   {
    "duration": 73,
    "start_time": "2023-01-19T08:06:55.058Z"
   },
   {
    "duration": 36771,
    "start_time": "2023-01-19T08:06:55.133Z"
   },
   {
    "duration": 263,
    "start_time": "2023-01-19T08:07:31.905Z"
   },
   {
    "duration": 13,
    "start_time": "2023-01-19T08:07:32.170Z"
   },
   {
    "duration": 58,
    "start_time": "2023-01-19T08:07:32.185Z"
   },
   {
    "duration": 18169,
    "start_time": "2023-01-19T08:07:32.245Z"
   },
   {
    "duration": 170,
    "start_time": "2023-01-19T08:07:50.416Z"
   },
   {
    "duration": 13,
    "start_time": "2023-01-19T08:07:50.588Z"
   },
   {
    "duration": 18765,
    "start_time": "2023-01-19T08:09:53.008Z"
   },
   {
    "duration": 18999,
    "start_time": "2023-01-19T08:13:32.590Z"
   },
   {
    "duration": 18,
    "start_time": "2023-01-19T08:13:51.591Z"
   },
   {
    "duration": 18,
    "start_time": "2023-01-19T08:14:09.579Z"
   },
   {
    "duration": 17,
    "start_time": "2023-01-19T08:15:08.121Z"
   },
   {
    "duration": 171,
    "start_time": "2023-01-19T08:15:21.869Z"
   },
   {
    "duration": 17,
    "start_time": "2023-01-19T08:15:43.042Z"
   },
   {
    "duration": 19207,
    "start_time": "2023-01-19T08:15:46.343Z"
   },
   {
    "duration": 20,
    "start_time": "2023-01-19T08:16:05.552Z"
   },
   {
    "duration": 17,
    "start_time": "2023-01-19T08:16:05.573Z"
   },
   {
    "duration": 18,
    "start_time": "2023-01-19T08:16:44.840Z"
   },
   {
    "duration": 22,
    "start_time": "2023-01-19T08:16:47.822Z"
   },
   {
    "duration": 21,
    "start_time": "2023-01-19T08:16:55.270Z"
   },
   {
    "duration": 24,
    "start_time": "2023-01-19T08:17:00.579Z"
   },
   {
    "duration": 18,
    "start_time": "2023-01-19T08:17:08.262Z"
   },
   {
    "duration": 23,
    "start_time": "2023-01-19T08:17:16.122Z"
   },
   {
    "duration": 1103,
    "start_time": "2023-01-19T08:22:18.161Z"
   },
   {
    "duration": 35,
    "start_time": "2023-01-19T08:22:19.266Z"
   },
   {
    "duration": 14,
    "start_time": "2023-01-19T08:22:19.303Z"
   },
   {
    "duration": 54,
    "start_time": "2023-01-19T08:22:19.319Z"
   },
   {
    "duration": 14,
    "start_time": "2023-01-19T08:22:19.375Z"
   },
   {
    "duration": 56,
    "start_time": "2023-01-19T08:22:19.391Z"
   },
   {
    "duration": 34,
    "start_time": "2023-01-19T08:22:19.448Z"
   },
   {
    "duration": 30,
    "start_time": "2023-01-19T08:22:19.484Z"
   },
   {
    "duration": 41,
    "start_time": "2023-01-19T08:22:19.517Z"
   },
   {
    "duration": 19,
    "start_time": "2023-01-19T08:22:19.560Z"
   },
   {
    "duration": 29,
    "start_time": "2023-01-19T08:22:19.580Z"
   },
   {
    "duration": 211,
    "start_time": "2023-01-19T08:22:19.610Z"
   },
   {
    "duration": 27861,
    "start_time": "2023-01-19T08:22:19.822Z"
   },
   {
    "duration": 51,
    "start_time": "2023-01-19T08:22:47.686Z"
   },
   {
    "duration": 13,
    "start_time": "2023-01-19T08:22:47.739Z"
   },
   {
    "duration": 93,
    "start_time": "2023-01-19T08:22:47.840Z"
   },
   {
    "duration": 34,
    "start_time": "2023-01-19T08:22:47.937Z"
   },
   {
    "duration": 60,
    "start_time": "2023-01-19T08:22:47.973Z"
   },
   {
    "duration": 39565,
    "start_time": "2023-01-19T08:22:48.035Z"
   },
   {
    "duration": 274,
    "start_time": "2023-01-19T08:23:27.601Z"
   },
   {
    "duration": 12,
    "start_time": "2023-01-19T08:23:27.877Z"
   },
   {
    "duration": 172,
    "start_time": "2023-01-19T08:23:27.892Z"
   },
   {
    "duration": 28,
    "start_time": "2023-01-19T08:23:28.065Z"
   },
   {
    "duration": 50,
    "start_time": "2023-01-19T08:23:28.095Z"
   },
   {
    "duration": 19234,
    "start_time": "2023-01-19T08:23:28.147Z"
   },
   {
    "duration": 21,
    "start_time": "2023-01-19T08:23:47.383Z"
   },
   {
    "duration": 34,
    "start_time": "2023-01-19T08:23:47.406Z"
   },
   {
    "duration": 39253,
    "start_time": "2023-01-19T08:26:52.170Z"
   },
   {
    "duration": 25,
    "start_time": "2023-01-19T08:27:31.426Z"
   },
   {
    "duration": 113,
    "start_time": "2023-01-19T08:28:33.897Z"
   },
   {
    "duration": 13,
    "start_time": "2023-01-19T08:28:59.741Z"
   },
   {
    "duration": 39250,
    "start_time": "2023-01-19T08:29:03.172Z"
   },
   {
    "duration": 21,
    "start_time": "2023-01-19T08:29:42.423Z"
   },
   {
    "duration": 272,
    "start_time": "2023-01-19T08:30:25.485Z"
   },
   {
    "duration": 12,
    "start_time": "2023-01-19T08:30:28.701Z"
   },
   {
    "duration": 152,
    "start_time": "2023-01-19T08:30:31.447Z"
   },
   {
    "duration": 20,
    "start_time": "2023-01-19T08:30:34.802Z"
   },
   {
    "duration": 28,
    "start_time": "2023-01-19T08:30:45.195Z"
   },
   {
    "duration": 19178,
    "start_time": "2023-01-19T08:30:51.346Z"
   },
   {
    "duration": 17,
    "start_time": "2023-01-19T08:31:18.687Z"
   },
   {
    "duration": 15,
    "start_time": "2023-01-19T08:31:33.756Z"
   },
   {
    "duration": 14,
    "start_time": "2023-01-19T08:31:35.350Z"
   },
   {
    "duration": 14,
    "start_time": "2023-01-19T08:31:48.572Z"
   },
   {
    "duration": 1320,
    "start_time": "2023-01-19T19:34:43.964Z"
   },
   {
    "duration": 82,
    "start_time": "2023-01-19T19:34:45.286Z"
   },
   {
    "duration": 15,
    "start_time": "2023-01-19T19:34:45.373Z"
   },
   {
    "duration": 22,
    "start_time": "2023-01-19T19:34:45.390Z"
   },
   {
    "duration": 4,
    "start_time": "2023-01-19T19:34:45.414Z"
   },
   {
    "duration": 24,
    "start_time": "2023-01-19T19:34:45.420Z"
   },
   {
    "duration": 14,
    "start_time": "2023-01-19T19:34:45.446Z"
   },
   {
    "duration": 26,
    "start_time": "2023-01-19T19:34:45.462Z"
   },
   {
    "duration": 10,
    "start_time": "2023-01-19T19:34:45.491Z"
   },
   {
    "duration": 12,
    "start_time": "2023-01-19T19:34:45.503Z"
   },
   {
    "duration": 27,
    "start_time": "2023-01-19T19:34:45.517Z"
   },
   {
    "duration": 286,
    "start_time": "2023-01-19T19:34:45.545Z"
   },
   {
    "duration": 30685,
    "start_time": "2023-01-19T19:34:45.833Z"
   },
   {
    "duration": 68,
    "start_time": "2023-01-19T19:35:16.519Z"
   },
   {
    "duration": 95,
    "start_time": "2023-01-19T19:35:16.593Z"
   },
   {
    "duration": 6,
    "start_time": "2023-01-19T19:35:16.690Z"
   },
   {
    "duration": 15,
    "start_time": "2023-01-19T19:35:16.698Z"
   },
   {
    "duration": 77,
    "start_time": "2023-01-19T19:35:16.715Z"
   },
   {
    "duration": 43812,
    "start_time": "2023-01-19T19:35:16.794Z"
   },
   {
    "duration": 27,
    "start_time": "2023-01-19T19:36:00.608Z"
   },
   {
    "duration": 316,
    "start_time": "2023-01-19T19:36:00.637Z"
   },
   {
    "duration": 14,
    "start_time": "2023-01-19T19:36:00.954Z"
   },
   {
    "duration": 196,
    "start_time": "2023-01-19T19:36:00.970Z"
   },
   {
    "duration": 115,
    "start_time": "2023-01-19T19:36:01.169Z"
   },
   {
    "duration": 20772,
    "start_time": "2023-01-19T19:36:01.287Z"
   },
   {
    "duration": 23,
    "start_time": "2023-01-19T19:36:22.062Z"
   },
   {
    "duration": 17,
    "start_time": "2023-01-19T19:36:22.088Z"
   },
   {
    "duration": 21,
    "start_time": "2023-01-19T19:36:22.107Z"
   },
   {
    "duration": 82,
    "start_time": "2023-01-19T20:40:45.232Z"
   },
   {
    "duration": 1398,
    "start_time": "2023-01-19T20:40:51.689Z"
   },
   {
    "duration": 219,
    "start_time": "2023-01-19T20:40:53.089Z"
   },
   {
    "duration": 20,
    "start_time": "2023-01-19T20:40:53.310Z"
   },
   {
    "duration": 122,
    "start_time": "2023-01-19T20:40:53.332Z"
   },
   {
    "duration": 9,
    "start_time": "2023-01-19T20:40:53.456Z"
   },
   {
    "duration": 46,
    "start_time": "2023-01-19T20:40:53.473Z"
   },
   {
    "duration": 99,
    "start_time": "2023-01-19T20:40:53.522Z"
   },
   {
    "duration": 0,
    "start_time": "2023-01-19T20:40:53.623Z"
   },
   {
    "duration": 0,
    "start_time": "2023-01-19T20:40:53.625Z"
   },
   {
    "duration": 0,
    "start_time": "2023-01-19T20:40:53.626Z"
   },
   {
    "duration": 0,
    "start_time": "2023-01-19T20:40:53.628Z"
   },
   {
    "duration": 0,
    "start_time": "2023-01-19T20:40:53.629Z"
   },
   {
    "duration": 0,
    "start_time": "2023-01-19T20:40:53.631Z"
   },
   {
    "duration": 0,
    "start_time": "2023-01-19T20:40:53.633Z"
   },
   {
    "duration": 0,
    "start_time": "2023-01-19T20:40:53.635Z"
   },
   {
    "duration": 0,
    "start_time": "2023-01-19T20:40:53.640Z"
   },
   {
    "duration": 0,
    "start_time": "2023-01-19T20:40:53.640Z"
   },
   {
    "duration": 0,
    "start_time": "2023-01-19T20:40:53.641Z"
   },
   {
    "duration": 0,
    "start_time": "2023-01-19T20:40:53.643Z"
   },
   {
    "duration": 0,
    "start_time": "2023-01-19T20:40:53.644Z"
   },
   {
    "duration": 0,
    "start_time": "2023-01-19T20:40:53.645Z"
   },
   {
    "duration": 0,
    "start_time": "2023-01-19T20:40:53.646Z"
   },
   {
    "duration": 0,
    "start_time": "2023-01-19T20:40:53.646Z"
   },
   {
    "duration": 0,
    "start_time": "2023-01-19T20:40:53.647Z"
   },
   {
    "duration": 0,
    "start_time": "2023-01-19T20:40:53.649Z"
   },
   {
    "duration": 0,
    "start_time": "2023-01-19T20:40:53.650Z"
   },
   {
    "duration": 0,
    "start_time": "2023-01-19T20:40:53.650Z"
   },
   {
    "duration": 13,
    "start_time": "2023-01-19T20:43:04.574Z"
   },
   {
    "duration": 7,
    "start_time": "2023-01-19T20:43:08.820Z"
   },
   {
    "duration": 15,
    "start_time": "2023-01-19T20:43:14.594Z"
   },
   {
    "duration": 79,
    "start_time": "2023-01-19T20:44:02.221Z"
   },
   {
    "duration": 1381,
    "start_time": "2023-01-19T20:44:15.329Z"
   },
   {
    "duration": 49,
    "start_time": "2023-01-19T20:44:16.713Z"
   },
   {
    "duration": 31,
    "start_time": "2023-01-19T20:44:16.766Z"
   },
   {
    "duration": 38,
    "start_time": "2023-01-19T20:44:16.800Z"
   },
   {
    "duration": 51,
    "start_time": "2023-01-19T20:44:16.840Z"
   },
   {
    "duration": 36,
    "start_time": "2023-01-19T20:44:16.893Z"
   },
   {
    "duration": 25,
    "start_time": "2023-01-19T20:44:16.931Z"
   },
   {
    "duration": 54,
    "start_time": "2023-01-19T20:44:16.958Z"
   },
   {
    "duration": 71,
    "start_time": "2023-01-19T20:44:17.014Z"
   },
   {
    "duration": 213,
    "start_time": "2023-01-19T20:44:17.089Z"
   },
   {
    "duration": 0,
    "start_time": "2023-01-19T20:44:17.305Z"
   },
   {
    "duration": 0,
    "start_time": "2023-01-19T20:44:17.306Z"
   },
   {
    "duration": 0,
    "start_time": "2023-01-19T20:44:17.308Z"
   },
   {
    "duration": 0,
    "start_time": "2023-01-19T20:44:17.309Z"
   },
   {
    "duration": 0,
    "start_time": "2023-01-19T20:44:17.311Z"
   },
   {
    "duration": 0,
    "start_time": "2023-01-19T20:44:17.312Z"
   },
   {
    "duration": 0,
    "start_time": "2023-01-19T20:44:17.315Z"
   },
   {
    "duration": 0,
    "start_time": "2023-01-19T20:44:17.316Z"
   },
   {
    "duration": 0,
    "start_time": "2023-01-19T20:44:17.317Z"
   },
   {
    "duration": 0,
    "start_time": "2023-01-19T20:44:17.336Z"
   },
   {
    "duration": 0,
    "start_time": "2023-01-19T20:44:17.337Z"
   },
   {
    "duration": 0,
    "start_time": "2023-01-19T20:44:17.340Z"
   },
   {
    "duration": 0,
    "start_time": "2023-01-19T20:44:17.341Z"
   },
   {
    "duration": 0,
    "start_time": "2023-01-19T20:44:17.342Z"
   },
   {
    "duration": 0,
    "start_time": "2023-01-19T20:44:17.343Z"
   },
   {
    "duration": 0,
    "start_time": "2023-01-19T20:44:17.344Z"
   },
   {
    "duration": 0,
    "start_time": "2023-01-19T20:44:17.344Z"
   },
   {
    "duration": 31,
    "start_time": "2023-01-19T20:44:45.069Z"
   },
   {
    "duration": 13,
    "start_time": "2023-01-19T20:44:53.871Z"
   },
   {
    "duration": 11,
    "start_time": "2023-01-19T20:45:00.251Z"
   },
   {
    "duration": 125,
    "start_time": "2023-01-19T20:45:00.264Z"
   },
   {
    "duration": 16,
    "start_time": "2023-01-19T20:45:00.391Z"
   },
   {
    "duration": 68,
    "start_time": "2023-01-19T20:45:00.409Z"
   },
   {
    "duration": 27,
    "start_time": "2023-01-19T20:45:00.481Z"
   },
   {
    "duration": 23,
    "start_time": "2023-01-19T20:45:00.510Z"
   },
   {
    "duration": 64,
    "start_time": "2023-01-19T20:45:00.535Z"
   },
   {
    "duration": 27,
    "start_time": "2023-01-19T20:45:00.602Z"
   },
   {
    "duration": 61,
    "start_time": "2023-01-19T20:45:00.631Z"
   },
   {
    "duration": 60,
    "start_time": "2023-01-19T20:45:00.694Z"
   },
   {
    "duration": 352,
    "start_time": "2023-01-19T20:45:00.771Z"
   },
   {
    "duration": 32695,
    "start_time": "2023-01-19T20:45:01.125Z"
   },
   {
    "duration": 118,
    "start_time": "2023-01-19T20:45:33.822Z"
   },
   {
    "duration": 42,
    "start_time": "2023-01-19T20:45:33.951Z"
   },
   {
    "duration": 46,
    "start_time": "2023-01-19T20:45:34.036Z"
   },
   {
    "duration": 22,
    "start_time": "2023-01-19T20:45:34.084Z"
   },
   {
    "duration": 52,
    "start_time": "2023-01-19T20:45:34.107Z"
   },
   {
    "duration": 47245,
    "start_time": "2023-01-19T20:45:34.166Z"
   },
   {
    "duration": 28,
    "start_time": "2023-01-19T20:46:21.414Z"
   },
   {
    "duration": 376,
    "start_time": "2023-01-19T20:46:21.444Z"
   },
   {
    "duration": 20,
    "start_time": "2023-01-19T20:46:21.822Z"
   },
   {
    "duration": 262,
    "start_time": "2023-01-19T20:46:21.844Z"
   },
   {
    "duration": 30,
    "start_time": "2023-01-19T20:46:22.108Z"
   },
   {
    "duration": 23963,
    "start_time": "2023-01-19T20:46:22.143Z"
   },
   {
    "duration": 53,
    "start_time": "2023-01-19T20:46:46.110Z"
   },
   {
    "duration": 16,
    "start_time": "2023-01-19T20:46:46.175Z"
   },
   {
    "duration": 37,
    "start_time": "2023-01-19T20:46:46.193Z"
   },
   {
    "duration": 32,
    "start_time": "2023-01-19T20:47:15.532Z"
   }
  ],
  "kernelspec": {
   "display_name": "Python 3 (ipykernel)",
   "language": "python",
   "name": "python3"
  },
  "language_info": {
   "codemirror_mode": {
    "name": "ipython",
    "version": 3
   },
   "file_extension": ".py",
   "mimetype": "text/x-python",
   "name": "python",
   "nbconvert_exporter": "python",
   "pygments_lexer": "ipython3",
   "version": "3.9.13"
  },
  "toc": {
   "base_numbering": 1,
   "nav_menu": {},
   "number_sections": true,
   "sideBar": true,
   "skip_h1_title": true,
   "title_cell": "Содержание",
   "title_sidebar": "Contents",
   "toc_cell": true,
   "toc_position": {
    "height": "calc(100% - 180px)",
    "left": "10px",
    "top": "150px",
    "width": "165px"
   },
   "toc_section_display": true,
   "toc_window_display": true
  }
 },
 "nbformat": 4,
 "nbformat_minor": 2
}
